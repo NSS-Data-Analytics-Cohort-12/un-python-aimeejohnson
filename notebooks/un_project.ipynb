{
 "cells": [
  {
   "cell_type": "code",
   "execution_count": 1,
   "id": "c9a03d11-c0c9-459d-b12d-af989c0742d8",
   "metadata": {},
   "outputs": [],
   "source": [
    "import pandas as pd  \n",
    "import numpy as np  \n",
    "import matplotlib.pyplot as plt  \n",
    "import seaborn as sns"
   ]
  },
  {
   "cell_type": "markdown",
   "id": "c9f7953e-558a-4980-88d7-a4fd92a0e2cb",
   "metadata": {},
   "source": [
    "4. Using the pandas `read_csv()` method, read the GDP dataset into your notebook as a DataFrame called `gdp_df`. Take a look at the first few and last few rows to familiarize yourself with what is contained in this dataset."
   ]
  },
  {
   "cell_type": "code",
   "execution_count": 3,
   "id": "1327483b-cbc2-45df-94d9-63b9a1b97d6c",
   "metadata": {},
   "outputs": [],
   "source": [
    "gdp_df = pd.read_csv('../data/gdp_percapita.csv')"
   ]
  },
  {
   "cell_type": "code",
   "execution_count": 4,
   "id": "54e19fee-ded0-4785-85df-e017b48f11c6",
   "metadata": {
    "scrolled": true
   },
   "outputs": [
    {
     "data": {
      "text/html": [
       "<div>\n",
       "<style scoped>\n",
       "    .dataframe tbody tr th:only-of-type {\n",
       "        vertical-align: middle;\n",
       "    }\n",
       "\n",
       "    .dataframe tbody tr th {\n",
       "        vertical-align: top;\n",
       "    }\n",
       "\n",
       "    .dataframe thead th {\n",
       "        text-align: right;\n",
       "    }\n",
       "</style>\n",
       "<table border=\"1\" class=\"dataframe\">\n",
       "  <thead>\n",
       "    <tr style=\"text-align: right;\">\n",
       "      <th></th>\n",
       "      <th>Country or Area</th>\n",
       "      <th>Year</th>\n",
       "      <th>Value</th>\n",
       "      <th>Value Footnotes</th>\n",
       "    </tr>\n",
       "  </thead>\n",
       "  <tbody>\n",
       "    <tr>\n",
       "      <th>0</th>\n",
       "      <td>Afghanistan</td>\n",
       "      <td>2021</td>\n",
       "      <td>1517.016266</td>\n",
       "      <td>NaN</td>\n",
       "    </tr>\n",
       "    <tr>\n",
       "      <th>1</th>\n",
       "      <td>Afghanistan</td>\n",
       "      <td>2020</td>\n",
       "      <td>1968.341002</td>\n",
       "      <td>NaN</td>\n",
       "    </tr>\n",
       "    <tr>\n",
       "      <th>2</th>\n",
       "      <td>Afghanistan</td>\n",
       "      <td>2019</td>\n",
       "      <td>2079.921861</td>\n",
       "      <td>NaN</td>\n",
       "    </tr>\n",
       "    <tr>\n",
       "      <th>3</th>\n",
       "      <td>Afghanistan</td>\n",
       "      <td>2018</td>\n",
       "      <td>2060.698973</td>\n",
       "      <td>NaN</td>\n",
       "    </tr>\n",
       "    <tr>\n",
       "      <th>4</th>\n",
       "      <td>Afghanistan</td>\n",
       "      <td>2017</td>\n",
       "      <td>2096.093111</td>\n",
       "      <td>NaN</td>\n",
       "    </tr>\n",
       "  </tbody>\n",
       "</table>\n",
       "</div>"
      ],
      "text/plain": [
       "  Country or Area  Year        Value  Value Footnotes\n",
       "0     Afghanistan  2021  1517.016266              NaN\n",
       "1     Afghanistan  2020  1968.341002              NaN\n",
       "2     Afghanistan  2019  2079.921861              NaN\n",
       "3     Afghanistan  2018  2060.698973              NaN\n",
       "4     Afghanistan  2017  2096.093111              NaN"
      ]
     },
     "execution_count": 4,
     "metadata": {},
     "output_type": "execute_result"
    }
   ],
   "source": [
    "gdp_df.head()"
   ]
  },
  {
   "cell_type": "markdown",
   "id": "69e56c12-bd45-4002-8729-43d313c24835",
   "metadata": {},
   "source": [
    "5. How many rows and columns are in `gdp_df`? What are the data types of each column?"
   ]
  },
  {
   "cell_type": "code",
   "execution_count": 6,
   "id": "d165b182-5df8-42e3-b663-80decbd58b47",
   "metadata": {},
   "outputs": [
    {
     "data": {
      "text/plain": [
       "(7662, 4)"
      ]
     },
     "execution_count": 6,
     "metadata": {},
     "output_type": "execute_result"
    }
   ],
   "source": [
    "gdp_df.shape"
   ]
  },
  {
   "cell_type": "code",
   "execution_count": 7,
   "id": "78fb59dc-553f-48c9-a5b8-36c3f470505c",
   "metadata": {},
   "outputs": [
    {
     "name": "stdout",
     "output_type": "stream",
     "text": [
      "<class 'pandas.core.frame.DataFrame'>\n",
      "RangeIndex: 7662 entries, 0 to 7661\n",
      "Data columns (total 4 columns):\n",
      " #   Column           Non-Null Count  Dtype  \n",
      "---  ------           --------------  -----  \n",
      " 0   Country or Area  7662 non-null   object \n",
      " 1   Year             7662 non-null   int64  \n",
      " 2   Value            7662 non-null   float64\n",
      " 3   Value Footnotes  0 non-null      float64\n",
      "dtypes: float64(2), int64(1), object(1)\n",
      "memory usage: 239.6+ KB\n"
     ]
    }
   ],
   "source": [
    "gdp_df.info()"
   ]
  },
  {
   "cell_type": "markdown",
   "id": "88e6eb27-1be9-4b9e-bd51-80c6af3aa729",
   "metadata": {},
   "source": [
    "6. Drop the `Value Footnotes` column and rename the remaining three to 'Country', 'Year', and 'GDP_Per_Capita'."
   ]
  },
  {
   "cell_type": "code",
   "execution_count": 9,
   "id": "79b5c662-4896-42fc-9b40-1143b00895a9",
   "metadata": {},
   "outputs": [],
   "source": [
    "gdp_df = gdp_df.drop('Value Footnotes', axis = 1)"
   ]
  },
  {
   "cell_type": "code",
   "execution_count": 10,
   "id": "c957eba6-a43a-4441-99b9-ed5c6266dd49",
   "metadata": {},
   "outputs": [
    {
     "data": {
      "text/html": [
       "<div>\n",
       "<style scoped>\n",
       "    .dataframe tbody tr th:only-of-type {\n",
       "        vertical-align: middle;\n",
       "    }\n",
       "\n",
       "    .dataframe tbody tr th {\n",
       "        vertical-align: top;\n",
       "    }\n",
       "\n",
       "    .dataframe thead th {\n",
       "        text-align: right;\n",
       "    }\n",
       "</style>\n",
       "<table border=\"1\" class=\"dataframe\">\n",
       "  <thead>\n",
       "    <tr style=\"text-align: right;\">\n",
       "      <th></th>\n",
       "      <th>Country or Area</th>\n",
       "      <th>Year</th>\n",
       "      <th>Value</th>\n",
       "    </tr>\n",
       "  </thead>\n",
       "  <tbody>\n",
       "    <tr>\n",
       "      <th>0</th>\n",
       "      <td>Afghanistan</td>\n",
       "      <td>2021</td>\n",
       "      <td>1517.016266</td>\n",
       "    </tr>\n",
       "    <tr>\n",
       "      <th>1</th>\n",
       "      <td>Afghanistan</td>\n",
       "      <td>2020</td>\n",
       "      <td>1968.341002</td>\n",
       "    </tr>\n",
       "    <tr>\n",
       "      <th>2</th>\n",
       "      <td>Afghanistan</td>\n",
       "      <td>2019</td>\n",
       "      <td>2079.921861</td>\n",
       "    </tr>\n",
       "    <tr>\n",
       "      <th>3</th>\n",
       "      <td>Afghanistan</td>\n",
       "      <td>2018</td>\n",
       "      <td>2060.698973</td>\n",
       "    </tr>\n",
       "    <tr>\n",
       "      <th>4</th>\n",
       "      <td>Afghanistan</td>\n",
       "      <td>2017</td>\n",
       "      <td>2096.093111</td>\n",
       "    </tr>\n",
       "  </tbody>\n",
       "</table>\n",
       "</div>"
      ],
      "text/plain": [
       "  Country or Area  Year        Value\n",
       "0     Afghanistan  2021  1517.016266\n",
       "1     Afghanistan  2020  1968.341002\n",
       "2     Afghanistan  2019  2079.921861\n",
       "3     Afghanistan  2018  2060.698973\n",
       "4     Afghanistan  2017  2096.093111"
      ]
     },
     "execution_count": 10,
     "metadata": {},
     "output_type": "execute_result"
    }
   ],
   "source": [
    "#Check to see what the column names look like\n",
    "gdp_df.head()"
   ]
  },
  {
   "cell_type": "code",
   "execution_count": 11,
   "id": "fbde192c-bf5a-4f8d-9577-2ce6ade4f47b",
   "metadata": {},
   "outputs": [],
   "source": [
    "#Rename the columns to what we want\n",
    "gdp_df = gdp_df.rename(columns={'Country or Area': 'Country', 'Year': 'Year', 'Value': 'GDP_Per_Capita'})"
   ]
  },
  {
   "cell_type": "code",
   "execution_count": 12,
   "id": "bffe026f-769b-4dc0-90a0-2090ff687e17",
   "metadata": {},
   "outputs": [
    {
     "data": {
      "text/html": [
       "<div>\n",
       "<style scoped>\n",
       "    .dataframe tbody tr th:only-of-type {\n",
       "        vertical-align: middle;\n",
       "    }\n",
       "\n",
       "    .dataframe tbody tr th {\n",
       "        vertical-align: top;\n",
       "    }\n",
       "\n",
       "    .dataframe thead th {\n",
       "        text-align: right;\n",
       "    }\n",
       "</style>\n",
       "<table border=\"1\" class=\"dataframe\">\n",
       "  <thead>\n",
       "    <tr style=\"text-align: right;\">\n",
       "      <th></th>\n",
       "      <th>Country</th>\n",
       "      <th>Year</th>\n",
       "      <th>GDP_Per_Capita</th>\n",
       "    </tr>\n",
       "  </thead>\n",
       "  <tbody>\n",
       "    <tr>\n",
       "      <th>0</th>\n",
       "      <td>Afghanistan</td>\n",
       "      <td>2021</td>\n",
       "      <td>1517.016266</td>\n",
       "    </tr>\n",
       "    <tr>\n",
       "      <th>1</th>\n",
       "      <td>Afghanistan</td>\n",
       "      <td>2020</td>\n",
       "      <td>1968.341002</td>\n",
       "    </tr>\n",
       "    <tr>\n",
       "      <th>2</th>\n",
       "      <td>Afghanistan</td>\n",
       "      <td>2019</td>\n",
       "      <td>2079.921861</td>\n",
       "    </tr>\n",
       "    <tr>\n",
       "      <th>3</th>\n",
       "      <td>Afghanistan</td>\n",
       "      <td>2018</td>\n",
       "      <td>2060.698973</td>\n",
       "    </tr>\n",
       "    <tr>\n",
       "      <th>4</th>\n",
       "      <td>Afghanistan</td>\n",
       "      <td>2017</td>\n",
       "      <td>2096.093111</td>\n",
       "    </tr>\n",
       "  </tbody>\n",
       "</table>\n",
       "</div>"
      ],
      "text/plain": [
       "       Country  Year  GDP_Per_Capita\n",
       "0  Afghanistan  2021     1517.016266\n",
       "1  Afghanistan  2020     1968.341002\n",
       "2  Afghanistan  2019     2079.921861\n",
       "3  Afghanistan  2018     2060.698973\n",
       "4  Afghanistan  2017     2096.093111"
      ]
     },
     "execution_count": 12,
     "metadata": {},
     "output_type": "execute_result"
    }
   ],
   "source": [
    "#Check to make sure it worked!\n",
    "gdp_df.head()"
   ]
  },
  {
   "cell_type": "markdown",
   "id": "473d4d35-25e7-46ed-a34b-da1daeaa9069",
   "metadata": {},
   "source": [
    "7. How many countries have data for all years? Which countries are missing many years of data? Look at the number of observations per year. What do you notice? "
   ]
  },
  {
   "cell_type": "code",
   "execution_count": 14,
   "id": "a097091d-5396-4ec0-b978-efef7e7cba84",
   "metadata": {
    "scrolled": true
   },
   "outputs": [
    {
     "data": {
      "text/plain": [
       "33"
      ]
     },
     "execution_count": 14,
     "metadata": {},
     "output_type": "execute_result"
    }
   ],
   "source": [
    "#Find how many years are represented in the data.\n",
    "gdp_df['Year'].nunique()"
   ]
  },
  {
   "cell_type": "code",
   "execution_count": 134,
   "id": "f7a75f78-10b8-4d91-a7ce-9ca4b5e096c2",
   "metadata": {},
   "outputs": [],
   "source": [
    "#Count the values of each country. To show how many years are represented.\n",
    "country_count = gdp_df['Country'].value_counts().reset_index()"
   ]
  },
  {
   "cell_type": "code",
   "execution_count": 136,
   "id": "b5175641-bf60-4954-bdf6-c456e07fb7a4",
   "metadata": {},
   "outputs": [
    {
     "data": {
      "text/html": [
       "<div>\n",
       "<style scoped>\n",
       "    .dataframe tbody tr th:only-of-type {\n",
       "        vertical-align: middle;\n",
       "    }\n",
       "\n",
       "    .dataframe tbody tr th {\n",
       "        vertical-align: top;\n",
       "    }\n",
       "\n",
       "    .dataframe thead th {\n",
       "        text-align: right;\n",
       "    }\n",
       "</style>\n",
       "<table border=\"1\" class=\"dataframe\">\n",
       "  <thead>\n",
       "    <tr style=\"text-align: right;\">\n",
       "      <th></th>\n",
       "      <th>Country</th>\n",
       "      <th>count</th>\n",
       "    </tr>\n",
       "  </thead>\n",
       "  <tbody>\n",
       "    <tr>\n",
       "      <th>0</th>\n",
       "      <td>Least developed countries: UN classification</td>\n",
       "      <td>33</td>\n",
       "    </tr>\n",
       "    <tr>\n",
       "      <th>1</th>\n",
       "      <td>Middle East &amp; North Africa</td>\n",
       "      <td>33</td>\n",
       "    </tr>\n",
       "    <tr>\n",
       "      <th>2</th>\n",
       "      <td>Middle East &amp; North Africa (IDA &amp; IBRD)</td>\n",
       "      <td>33</td>\n",
       "    </tr>\n",
       "    <tr>\n",
       "      <th>3</th>\n",
       "      <td>Middle income</td>\n",
       "      <td>33</td>\n",
       "    </tr>\n",
       "    <tr>\n",
       "      <th>4</th>\n",
       "      <td>Mongolia</td>\n",
       "      <td>33</td>\n",
       "    </tr>\n",
       "    <tr>\n",
       "      <th>...</th>\n",
       "      <td>...</td>\n",
       "      <td>...</td>\n",
       "    </tr>\n",
       "    <tr>\n",
       "      <th>237</th>\n",
       "      <td>Kosovo</td>\n",
       "      <td>15</td>\n",
       "    </tr>\n",
       "    <tr>\n",
       "      <th>238</th>\n",
       "      <td>Sint Maarten (Dutch part)</td>\n",
       "      <td>14</td>\n",
       "    </tr>\n",
       "    <tr>\n",
       "      <th>239</th>\n",
       "      <td>Turks and Caicos Islands</td>\n",
       "      <td>12</td>\n",
       "    </tr>\n",
       "    <tr>\n",
       "      <th>240</th>\n",
       "      <td>Somalia</td>\n",
       "      <td>10</td>\n",
       "    </tr>\n",
       "    <tr>\n",
       "      <th>241</th>\n",
       "      <td>Djibouti</td>\n",
       "      <td>10</td>\n",
       "    </tr>\n",
       "  </tbody>\n",
       "</table>\n",
       "<p>242 rows × 2 columns</p>\n",
       "</div>"
      ],
      "text/plain": [
       "                                          Country  count\n",
       "0    Least developed countries: UN classification     33\n",
       "1                      Middle East & North Africa     33\n",
       "2         Middle East & North Africa (IDA & IBRD)     33\n",
       "3                                   Middle income     33\n",
       "4                                        Mongolia     33\n",
       "..                                            ...    ...\n",
       "237                                        Kosovo     15\n",
       "238                     Sint Maarten (Dutch part)     14\n",
       "239                      Turks and Caicos Islands     12\n",
       "240                                       Somalia     10\n",
       "241                                      Djibouti     10\n",
       "\n",
       "[242 rows x 2 columns]"
      ]
     },
     "execution_count": 136,
     "metadata": {},
     "output_type": "execute_result"
    }
   ],
   "source": [
    "#Take a peek\n",
    "country_count"
   ]
  },
  {
   "cell_type": "code",
   "execution_count": 142,
   "id": "d8a166f4-22fd-483f-acb5-5ef4620360fe",
   "metadata": {
    "scrolled": true
   },
   "outputs": [
    {
     "data": {
      "text/html": [
       "<div>\n",
       "<style scoped>\n",
       "    .dataframe tbody tr th:only-of-type {\n",
       "        vertical-align: middle;\n",
       "    }\n",
       "\n",
       "    .dataframe tbody tr th {\n",
       "        vertical-align: top;\n",
       "    }\n",
       "\n",
       "    .dataframe thead th {\n",
       "        text-align: right;\n",
       "    }\n",
       "</style>\n",
       "<table border=\"1\" class=\"dataframe\">\n",
       "  <thead>\n",
       "    <tr style=\"text-align: right;\">\n",
       "      <th></th>\n",
       "      <th>Year</th>\n",
       "      <th>GDP_Per_Capita</th>\n",
       "    </tr>\n",
       "    <tr>\n",
       "      <th>Country</th>\n",
       "      <th></th>\n",
       "      <th></th>\n",
       "    </tr>\n",
       "  </thead>\n",
       "  <tbody>\n",
       "    <tr>\n",
       "      <th>Djibouti</th>\n",
       "      <td>10</td>\n",
       "      <td>10</td>\n",
       "    </tr>\n",
       "    <tr>\n",
       "      <th>Somalia</th>\n",
       "      <td>10</td>\n",
       "      <td>10</td>\n",
       "    </tr>\n",
       "    <tr>\n",
       "      <th>Turks and Caicos Islands</th>\n",
       "      <td>12</td>\n",
       "      <td>12</td>\n",
       "    </tr>\n",
       "    <tr>\n",
       "      <th>Sint Maarten (Dutch part)</th>\n",
       "      <td>14</td>\n",
       "      <td>14</td>\n",
       "    </tr>\n",
       "    <tr>\n",
       "      <th>Kosovo</th>\n",
       "      <td>15</td>\n",
       "      <td>15</td>\n",
       "    </tr>\n",
       "    <tr>\n",
       "      <th>...</th>\n",
       "      <td>...</td>\n",
       "      <td>...</td>\n",
       "    </tr>\n",
       "    <tr>\n",
       "      <th>Jamaica</th>\n",
       "      <td>33</td>\n",
       "      <td>33</td>\n",
       "    </tr>\n",
       "    <tr>\n",
       "      <th>Japan</th>\n",
       "      <td>33</td>\n",
       "      <td>33</td>\n",
       "    </tr>\n",
       "    <tr>\n",
       "      <th>Jordan</th>\n",
       "      <td>33</td>\n",
       "      <td>33</td>\n",
       "    </tr>\n",
       "    <tr>\n",
       "      <th>IDA total</th>\n",
       "      <td>33</td>\n",
       "      <td>33</td>\n",
       "    </tr>\n",
       "    <tr>\n",
       "      <th>Zimbabwe</th>\n",
       "      <td>33</td>\n",
       "      <td>33</td>\n",
       "    </tr>\n",
       "  </tbody>\n",
       "</table>\n",
       "<p>242 rows × 2 columns</p>\n",
       "</div>"
      ],
      "text/plain": [
       "                           Year  GDP_Per_Capita\n",
       "Country                                        \n",
       "Djibouti                     10              10\n",
       "Somalia                      10              10\n",
       "Turks and Caicos Islands     12              12\n",
       "Sint Maarten (Dutch part)    14              14\n",
       "Kosovo                       15              15\n",
       "...                         ...             ...\n",
       "Jamaica                      33              33\n",
       "Japan                        33              33\n",
       "Jordan                       33              33\n",
       "IDA total                    33              33\n",
       "Zimbabwe                     33              33\n",
       "\n",
       "[242 rows x 2 columns]"
      ]
     },
     "execution_count": 142,
     "metadata": {},
     "output_type": "execute_result"
    }
   ],
   "source": [
    "#Count the countries that 33 years represented\n",
    "country_count.loc[country_count['count'] == 33].count()\n",
    "#Another way to get the similar results\n",
    "#country_count = gdp_df.groupby(['Country']).count().sort_values(by='Year')\n",
    "country_count"
   ]
  },
  {
   "cell_type": "code",
   "execution_count": 144,
   "id": "35799aef-0106-4200-8740-548c17fd53c2",
   "metadata": {},
   "outputs": [
    {
     "data": {
      "text/plain": [
       "Year\n",
       "12      1\n",
       "14      1\n",
       "15      1\n",
       "16      1\n",
       "19      1\n",
       "20      1\n",
       "24      1\n",
       "25      1\n",
       "30      1\n",
       "10      2\n",
       "26      2\n",
       "29      2\n",
       "22      3\n",
       "31      3\n",
       "23      4\n",
       "32      5\n",
       "28     10\n",
       "33    202\n",
       "Name: count, dtype: int64"
      ]
     },
     "execution_count": 144,
     "metadata": {},
     "output_type": "execute_result"
    }
   ],
   "source": [
    "#Look at the number of observations per year\n",
    "country_count['Year'].value_counts(ascending= True)"
   ]
  },
  {
   "cell_type": "markdown",
   "id": "3ef9dc7f-eaa6-4da8-b9bc-9ec321297fcf",
   "metadata": {},
   "source": [
    "There are 202 countries that have data for all 33 years.Countries that are missing a lot of data include: Kosovo, Sint Maarten, Turks & Caicos Islands, Somalia, Djbouti. It looks like the number of countries represented has increased over time."
   ]
  },
  {
   "cell_type": "markdown",
   "id": "7aa87efb-50d5-4257-9fe0-3a3ea7397c33",
   "metadata": {},
   "source": [
    "8. In this question, you're going to create some plots to show the distribution of GDP per capita for the year 2020. Go to the Python Graph Gallery (https://www.python-graph-gallery.com/) and look at the different types of plots under the Distribution section. Create a histogram, a density plot, a boxplot, and a violin plot. What do you notice when you look at these plots? How do the plots compare and what information can you get out of one type that you can't necessarily get out of the others?"
   ]
  },
  {
   "cell_type": "code",
   "execution_count": 21,
   "id": "fca94c59-676b-4bc5-9496-82ae2b1e3a0b",
   "metadata": {},
   "outputs": [],
   "source": [
    "#Using our gdp dataframe, create a new dataframe that only shows the year 2020\n",
    "year_2020 = gdp_df[gdp_df['Year']== 2020]"
   ]
  },
  {
   "cell_type": "code",
   "execution_count": 22,
   "id": "be3fda27-9f59-4222-9b16-215fcb678c46",
   "metadata": {},
   "outputs": [
    {
     "data": {
      "text/html": [
       "<div>\n",
       "<style scoped>\n",
       "    .dataframe tbody tr th:only-of-type {\n",
       "        vertical-align: middle;\n",
       "    }\n",
       "\n",
       "    .dataframe tbody tr th {\n",
       "        vertical-align: top;\n",
       "    }\n",
       "\n",
       "    .dataframe thead th {\n",
       "        text-align: right;\n",
       "    }\n",
       "</style>\n",
       "<table border=\"1\" class=\"dataframe\">\n",
       "  <thead>\n",
       "    <tr style=\"text-align: right;\">\n",
       "      <th></th>\n",
       "      <th>Country</th>\n",
       "      <th>Year</th>\n",
       "      <th>GDP_Per_Capita</th>\n",
       "    </tr>\n",
       "  </thead>\n",
       "  <tbody>\n",
       "    <tr>\n",
       "      <th>1</th>\n",
       "      <td>Afghanistan</td>\n",
       "      <td>2020</td>\n",
       "      <td>1968.341002</td>\n",
       "    </tr>\n",
       "    <tr>\n",
       "      <th>22</th>\n",
       "      <td>Africa Eastern and Southern</td>\n",
       "      <td>2020</td>\n",
       "      <td>3455.023119</td>\n",
       "    </tr>\n",
       "    <tr>\n",
       "      <th>55</th>\n",
       "      <td>Africa Western and Central</td>\n",
       "      <td>2020</td>\n",
       "      <td>3957.933804</td>\n",
       "    </tr>\n",
       "    <tr>\n",
       "      <th>88</th>\n",
       "      <td>Albania</td>\n",
       "      <td>2020</td>\n",
       "      <td>13278.369769</td>\n",
       "    </tr>\n",
       "    <tr>\n",
       "      <th>121</th>\n",
       "      <td>Algeria</td>\n",
       "      <td>2020</td>\n",
       "      <td>10844.770764</td>\n",
       "    </tr>\n",
       "    <tr>\n",
       "      <th>...</th>\n",
       "      <td>...</td>\n",
       "      <td>...</td>\n",
       "      <td>...</td>\n",
       "    </tr>\n",
       "    <tr>\n",
       "      <th>7503</th>\n",
       "      <td>Viet Nam</td>\n",
       "      <td>2020</td>\n",
       "      <td>10450.622382</td>\n",
       "    </tr>\n",
       "    <tr>\n",
       "      <th>7536</th>\n",
       "      <td>West Bank and Gaza</td>\n",
       "      <td>2020</td>\n",
       "      <td>5402.538773</td>\n",
       "    </tr>\n",
       "    <tr>\n",
       "      <th>7565</th>\n",
       "      <td>World</td>\n",
       "      <td>2020</td>\n",
       "      <td>16204.169107</td>\n",
       "    </tr>\n",
       "    <tr>\n",
       "      <th>7598</th>\n",
       "      <td>Zambia</td>\n",
       "      <td>2020</td>\n",
       "      <td>3183.650773</td>\n",
       "    </tr>\n",
       "    <tr>\n",
       "      <th>7631</th>\n",
       "      <td>Zimbabwe</td>\n",
       "      <td>2020</td>\n",
       "      <td>1990.319419</td>\n",
       "    </tr>\n",
       "  </tbody>\n",
       "</table>\n",
       "<p>242 rows × 3 columns</p>\n",
       "</div>"
      ],
      "text/plain": [
       "                          Country  Year  GDP_Per_Capita\n",
       "1                     Afghanistan  2020     1968.341002\n",
       "22    Africa Eastern and Southern  2020     3455.023119\n",
       "55     Africa Western and Central  2020     3957.933804\n",
       "88                        Albania  2020    13278.369769\n",
       "121                       Algeria  2020    10844.770764\n",
       "...                           ...   ...             ...\n",
       "7503                     Viet Nam  2020    10450.622382\n",
       "7536           West Bank and Gaza  2020     5402.538773\n",
       "7565                        World  2020    16204.169107\n",
       "7598                       Zambia  2020     3183.650773\n",
       "7631                     Zimbabwe  2020     1990.319419\n",
       "\n",
       "[242 rows x 3 columns]"
      ]
     },
     "execution_count": 22,
     "metadata": {},
     "output_type": "execute_result"
    }
   ],
   "source": [
    "#Check it out\n",
    "year_2020"
   ]
  },
  {
   "cell_type": "code",
   "execution_count": 156,
   "id": "6b19c1ee-4953-4bf0-ab63-4cfb6c5ab2ff",
   "metadata": {},
   "outputs": [
    {
     "data": {
      "image/png": "[encoded data removed]",
      "text/plain": [
       "<Figure size 640x480 with 1 Axes>"
      ]
     },
     "metadata": {},
     "output_type": "display_data"
    }
   ],
   "source": [
    "#Histogram\n",
    "sns.set_theme(style=\"darkgrid\")\n",
    "sns.histplot(data=year_2020, x='GDP_Per_Capita', color = 'lightcoral')\n",
    "\n",
    "plt.xlabel('GDP Per Capita') # x-axis name\n",
    "plt.ylabel('Distribution') # x-axis name\n",
    "plt.title('Country Count by GDP Per Capita') # Add a title\n",
    "plt.show() # Display the graph"
   ]
  },
  {
   "cell_type": "code",
   "execution_count": 154,
   "id": "0ce2b6c0-516a-4ed8-a1f4-5ec93a5452d0",
   "metadata": {},
   "outputs": [
    {
     "data": {
      "image/png": "[encoded data removed]",
      "text/plain": [
       "<Figure size 640x480 with 1 Axes>"
      ]
     },
     "metadata": {},
     "output_type": "display_data"
    }
   ],
   "source": [
    "#Density Plot\n",
    "sns.set_theme(style=\"darkgrid\")\n",
    "sns.kdeplot(year_2020['GDP_Per_Capita'], fill=True, color=\"lightcoral\", bw_method=1)\n",
    "\n",
    "plt.xlabel('GDP Per Capita') # x-axis name\n",
    "plt.ylabel('Distribution') # y-axis name\n",
    "plt.title('Country Count by GDP Per Capita') # Add a title\n",
    "plt.show() # Display the graph"
   ]
  },
  {
   "cell_type": "code",
   "execution_count": 124,
   "id": "e9aa780e-18c1-4161-bf70-474e9afa2ee1",
   "metadata": {},
   "outputs": [
    {
     "data": {
      "image/png": "[encoded data removed]",
      "text/plain": [
       "<Figure size 640x480 with 1 Axes>"
      ]
     },
     "metadata": {},
     "output_type": "display_data"
    }
   ],
   "source": [
    "#Boxplot\n",
    "sns.set_theme(style=\"darkgrid\")\n",
    "sns.boxplot(x=year_2020['GDP_Per_Capita'], color='lightcoral')\n",
    "\n",
    "plt.xlabel('GDP Per Capita') # x-axis name\n",
    "plt.title('Boxplot of GDP Per Capita') # Add a title\n",
    "plt.show() # Display the graph"
   ]
  },
  {
   "cell_type": "code",
   "execution_count": 126,
   "id": "ad339d36-d39c-4be5-8a9a-9fe1c7517c96",
   "metadata": {
    "scrolled": true
   },
   "outputs": [
    {
     "data": {
      "image/png": "[encoded data removed]",
      "text/plain": [
       "<Figure size 640x480 with 1 Axes>"
      ]
     },
     "metadata": {},
     "output_type": "display_data"
    }
   ],
   "source": [
    "#Violin Chart\n",
    "sns.set_theme(style=\"darkgrid\")\n",
    "sns.violinplot(y=year_2020[\"GDP_Per_Capita\"], color='lightcoral')\n",
    "\n",
    "#plt.xlabel('GDP Per Capita') # x-axis name\n",
    "plt.ylabel('GDP Per Capita') # y-axis name\n",
    "plt.title('Violin Chart of GDP Per Capita') # Add a title\n",
    "plt.show() # Display the graph"
   ]
  },
  {
   "cell_type": "markdown",
   "id": "c65afe62-40cc-4db1-a58b-0104ec19548f",
   "metadata": {},
   "source": [
    "9. What was the median GDP per capita value in 2020?"
   ]
  },
  {
   "cell_type": "code",
   "execution_count": 158,
   "id": "4bea8d67-fc19-45f9-b512-138daee94389",
   "metadata": {},
   "outputs": [
    {
     "data": {
      "text/plain": [
       "13357.9976"
      ]
     },
     "execution_count": 158,
     "metadata": {},
     "output_type": "execute_result"
    }
   ],
   "source": [
    "round(year_2020['GDP_Per_Capita'].median(),4)"
   ]
  },
  {
   "cell_type": "markdown",
   "id": "1b1f2118-9c84-4149-8cb7-50f2e518f07d",
   "metadata": {},
   "source": [
    "10. For this question, you're going to create some visualizations to compare GDP per capita values for the years 1990, 2000, 2010, and 2020. Start by subsetting your data to just these 4 years into a new DataFrame named gdp_decades. Using this, create the following 4 plots:\n",
    "\t* A boxplot\n",
    "\t* A barplot (check out the Barplot with Seaborn section: https://www.python-graph-gallery.com/barplot/#Seaborn)\n",
    "\t* A scatterplot\n",
    "\t* A scatterplot with a trend line overlaid (see this regplot example: https://www.python-graph-gallery.com/42-custom-linear-regression-fit-seaborn)  \n",
    "Comment on what you observe has happened to GDP values over time and the relative strengths and weaknesses of each type of plot."
   ]
  },
  {
   "cell_type": "code",
   "execution_count": 31,
   "id": "840dd862-54cd-473f-bdaf-11d3c9eb855b",
   "metadata": {},
   "outputs": [
    {
     "data": {
      "text/html": [
       "<div>\n",
       "<style scoped>\n",
       "    .dataframe tbody tr th:only-of-type {\n",
       "        vertical-align: middle;\n",
       "    }\n",
       "\n",
       "    .dataframe tbody tr th {\n",
       "        vertical-align: top;\n",
       "    }\n",
       "\n",
       "    .dataframe thead th {\n",
       "        text-align: right;\n",
       "    }\n",
       "</style>\n",
       "<table border=\"1\" class=\"dataframe\">\n",
       "  <thead>\n",
       "    <tr style=\"text-align: right;\">\n",
       "      <th></th>\n",
       "      <th>Country</th>\n",
       "      <th>Year</th>\n",
       "      <th>GDP_Per_Capita</th>\n",
       "    </tr>\n",
       "  </thead>\n",
       "  <tbody>\n",
       "    <tr>\n",
       "      <th>1</th>\n",
       "      <td>Afghanistan</td>\n",
       "      <td>2020</td>\n",
       "      <td>1968.341002</td>\n",
       "    </tr>\n",
       "    <tr>\n",
       "      <th>11</th>\n",
       "      <td>Afghanistan</td>\n",
       "      <td>2010</td>\n",
       "      <td>2026.163818</td>\n",
       "    </tr>\n",
       "    <tr>\n",
       "      <th>22</th>\n",
       "      <td>Africa Eastern and Southern</td>\n",
       "      <td>2020</td>\n",
       "      <td>3455.023119</td>\n",
       "    </tr>\n",
       "    <tr>\n",
       "      <th>32</th>\n",
       "      <td>Africa Eastern and Southern</td>\n",
       "      <td>2010</td>\n",
       "      <td>3513.315920</td>\n",
       "    </tr>\n",
       "    <tr>\n",
       "      <th>42</th>\n",
       "      <td>Africa Eastern and Southern</td>\n",
       "      <td>2000</td>\n",
       "      <td>2897.140841</td>\n",
       "    </tr>\n",
       "    <tr>\n",
       "      <th>...</th>\n",
       "      <td>...</td>\n",
       "      <td>...</td>\n",
       "      <td>...</td>\n",
       "    </tr>\n",
       "    <tr>\n",
       "      <th>7628</th>\n",
       "      <td>Zambia</td>\n",
       "      <td>1990</td>\n",
       "      <td>2290.039226</td>\n",
       "    </tr>\n",
       "    <tr>\n",
       "      <th>7631</th>\n",
       "      <td>Zimbabwe</td>\n",
       "      <td>2020</td>\n",
       "      <td>1990.319419</td>\n",
       "    </tr>\n",
       "    <tr>\n",
       "      <th>7641</th>\n",
       "      <td>Zimbabwe</td>\n",
       "      <td>2010</td>\n",
       "      <td>1799.540233</td>\n",
       "    </tr>\n",
       "    <tr>\n",
       "      <th>7651</th>\n",
       "      <td>Zimbabwe</td>\n",
       "      <td>2000</td>\n",
       "      <td>2750.601236</td>\n",
       "    </tr>\n",
       "    <tr>\n",
       "      <th>7661</th>\n",
       "      <td>Zimbabwe</td>\n",
       "      <td>1990</td>\n",
       "      <td>2704.757299</td>\n",
       "    </tr>\n",
       "  </tbody>\n",
       "</table>\n",
       "<p>921 rows × 3 columns</p>\n",
       "</div>"
      ],
      "text/plain": [
       "                          Country  Year  GDP_Per_Capita\n",
       "1                     Afghanistan  2020     1968.341002\n",
       "11                    Afghanistan  2010     2026.163818\n",
       "22    Africa Eastern and Southern  2020     3455.023119\n",
       "32    Africa Eastern and Southern  2010     3513.315920\n",
       "42    Africa Eastern and Southern  2000     2897.140841\n",
       "...                           ...   ...             ...\n",
       "7628                       Zambia  1990     2290.039226\n",
       "7631                     Zimbabwe  2020     1990.319419\n",
       "7641                     Zimbabwe  2010     1799.540233\n",
       "7651                     Zimbabwe  2000     2750.601236\n",
       "7661                     Zimbabwe  1990     2704.757299\n",
       "\n",
       "[921 rows x 3 columns]"
      ]
     },
     "execution_count": 31,
     "metadata": {},
     "output_type": "execute_result"
    }
   ],
   "source": [
    "#Grab only the data that includes only the years needed\n",
    "gdp_decades = gdp_df[gdp_df['Year'].isin([1990,2000,2010,2020])]\n",
    "gdp_decades"
   ]
  },
  {
   "cell_type": "code",
   "execution_count": 32,
   "id": "75f3ed48-1e51-4a56-945b-d4df2ad5bb2a",
   "metadata": {},
   "outputs": [
    {
     "data": {
      "image/png": "[encoded data removed]",
      "text/plain": [
       "<Figure size 640x480 with 1 Axes>"
      ]
     },
     "metadata": {},
     "output_type": "display_data"
    }
   ],
   "source": [
    "#Boxplot\n",
    "sns.set_theme(style=\"darkgrid\")\n",
    "sns.boxplot(x=gdp_decades['Year'], y=gdp_decades['GDP_Per_Capita'], color='darkseagreen')\n",
    "\n",
    "plt.xlabel('Year') # x-axis name\n",
    "plt.ylabel('GDP Per Capita') # y-axis name\n",
    "plt.title('GDP Per Capita Over Time') # Add a title\n",
    "plt.show() # Display the graph"
   ]
  },
  {
   "cell_type": "code",
   "execution_count": 33,
   "id": "1ee17ceb-1b1b-4ec0-aea7-d1fa8b2d0fce",
   "metadata": {},
   "outputs": [
    {
     "data": {
      "image/png": "[encoded data removed]",
      "text/plain": [
       "<Figure size 640x480 with 1 Axes>"
      ]
     },
     "metadata": {},
     "output_type": "display_data"
    }
   ],
   "source": [
    "#Set the theme\n",
    "sns.set_theme(style=\"darkgrid\")\n",
    "#Barplot\n",
    "sns.barplot(\n",
    "    x=\"Year\", \n",
    "    y=\"GDP_Per_Capita\", \n",
    "    data=gdp_decades, \n",
    "    color='darkseagreen')\n",
    "\n",
    "plt.xlabel('Year') # x-axis name\n",
    "plt.ylabel('GDP Per Capita') # y-axis name\n",
    "plt.title('GDP Per Capita Over Time') # Add a title\n",
    "plt.show() # Display the graph"
   ]
  },
  {
   "cell_type": "code",
   "execution_count": 160,
   "id": "0d2cc21c-c3e9-478d-8ed7-03702502d302",
   "metadata": {},
   "outputs": [
    {
     "data": {
      "image/png": "[encoded data removed]",
      "text/plain": [
       "<Figure size 640x480 with 1 Axes>"
      ]
     },
     "metadata": {},
     "output_type": "display_data"
    }
   ],
   "source": [
    "#Scatterplot\n",
    "sns.set_theme(style=\"darkgrid\")\n",
    "sns.scatterplot(x=gdp_decades[\"Year\"], y=gdp_decades[\"GDP_Per_Capita\"], color='darkseagreen')\n",
    "\n",
    "plt.xlabel('Year') # x-axis name\n",
    "plt.ylabel('GDP Per Capita') # y-axis name\n",
    "plt.title('GDP Per Capita Over Time') # Add a title\n",
    "plt.show() # Display the graph"
   ]
  },
  {
   "cell_type": "code",
   "execution_count": 35,
   "id": "36110e54-9000-48a9-b959-d5a6d8fd7170",
   "metadata": {},
   "outputs": [
    {
     "data": {
      "image/png": "[encoded data removed]",
      "text/plain": [
       "<Figure size 800x600 with 1 Axes>"
      ]
     },
     "metadata": {},
     "output_type": "display_data"
    }
   ],
   "source": [
    "#Scatterplot with regression line\n",
    "fig, ax = plt.subplots(figsize=(8, 6))\n",
    "sns.regplot(\n",
    "    x=gdp_decades[\"Year\"],\n",
    "    y=gdp_decades[\"GDP_Per_Capita\"], color='darkseagreen',\n",
    "    line_kws={\n",
    "        \"color\": \"goldenrod\",\n",
    "        \"alpha\": 0.4,\n",
    "        \"lw\": 5,\n",
    "        \"ls\": \"--\"\n",
    "    },\n",
    "    ax=ax\n",
    ")\n",
    "\n",
    "plt.xlabel('Year') # x-axis name\n",
    "plt.ylabel('GDP Per Capita') # y-axis name\n",
    "plt.title('GDP Per Capita Over Time') # Add a title\n",
    "plt.show() # Display the graph\n",
    "\n",
    "plt.show()"
   ]
  },
  {
   "cell_type": "markdown",
   "id": "2cfe98be-6699-4452-9593-7905a1a82531",
   "metadata": {},
   "source": [
    "11. Which country was the first to have a GDP per capita greater than $100,000?"
   ]
  },
  {
   "cell_type": "code",
   "execution_count": 170,
   "id": "6b59ae08-2ea6-4c5c-8db6-d9e965164d0e",
   "metadata": {},
   "outputs": [
    {
     "data": {
      "text/html": [
       "<div>\n",
       "<style scoped>\n",
       "    .dataframe tbody tr th:only-of-type {\n",
       "        vertical-align: middle;\n",
       "    }\n",
       "\n",
       "    .dataframe tbody tr th {\n",
       "        vertical-align: top;\n",
       "    }\n",
       "\n",
       "    .dataframe thead th {\n",
       "        text-align: right;\n",
       "    }\n",
       "</style>\n",
       "<table border=\"1\" class=\"dataframe\">\n",
       "  <thead>\n",
       "    <tr style=\"text-align: right;\">\n",
       "      <th></th>\n",
       "      <th>Country</th>\n",
       "      <th>Year</th>\n",
       "      <th>GDP_Per_Capita</th>\n",
       "    </tr>\n",
       "  </thead>\n",
       "  <tbody>\n",
       "    <tr>\n",
       "      <th>7302</th>\n",
       "      <td>United Arab Emirates</td>\n",
       "      <td>1990</td>\n",
       "      <td>105893.626059</td>\n",
       "    </tr>\n",
       "  </tbody>\n",
       "</table>\n",
       "</div>"
      ],
      "text/plain": [
       "                   Country  Year  GDP_Per_Capita\n",
       "7302  United Arab Emirates  1990   105893.626059"
      ]
     },
     "execution_count": 170,
     "metadata": {},
     "output_type": "execute_result"
    }
   ],
   "source": [
    "first_gdp = gdp_df[gdp_df['GDP_Per_Capita'] > 100000].sort_values('Year')\n",
    "first_gdp.head(1)\n",
    "\n",
    "#You can also reset index to locate the top row (0 index) \n",
    "#first_gdp = gdp_df[gdp_df['GDP_Per_Capita'] > 100000].sort_values('Year').reset_index(drop=True)\n",
    "#first_gdp.loc[0]"
   ]
  },
  {
   "cell_type": "markdown",
   "id": "16b641d2-27c9-42fe-adba-1ce00804ffcd",
   "metadata": {},
   "source": [
    "12. Which country had the highest GDP per capita in 2020? Create a plot showing how this country's GDP per capita has changed over the timespan of the dataset."
   ]
  },
  {
   "cell_type": "code",
   "execution_count": 184,
   "id": "7d530623-827b-41ae-87bc-d3639321a1ad",
   "metadata": {},
   "outputs": [
    {
     "data": {
      "text/html": [
       "<div>\n",
       "<style scoped>\n",
       "    .dataframe tbody tr th:only-of-type {\n",
       "        vertical-align: middle;\n",
       "    }\n",
       "\n",
       "    .dataframe tbody tr th {\n",
       "        vertical-align: top;\n",
       "    }\n",
       "\n",
       "    .dataframe thead th {\n",
       "        text-align: right;\n",
       "    }\n",
       "</style>\n",
       "<table border=\"1\" class=\"dataframe\">\n",
       "  <thead>\n",
       "    <tr style=\"text-align: right;\">\n",
       "      <th></th>\n",
       "      <th>Country</th>\n",
       "      <th>Year</th>\n",
       "      <th>GDP_Per_Capita</th>\n",
       "    </tr>\n",
       "  </thead>\n",
       "  <tbody>\n",
       "    <tr>\n",
       "      <th>4148</th>\n",
       "      <td>Luxembourg</td>\n",
       "      <td>2020</td>\n",
       "      <td>111751.314751</td>\n",
       "    </tr>\n",
       "    <tr>\n",
       "      <th>6108</th>\n",
       "      <td>Singapore</td>\n",
       "      <td>2020</td>\n",
       "      <td>94910.101431</td>\n",
       "    </tr>\n",
       "    <tr>\n",
       "      <th>3279</th>\n",
       "      <td>Ireland</td>\n",
       "      <td>2020</td>\n",
       "      <td>91356.855054</td>\n",
       "    </tr>\n",
       "    <tr>\n",
       "      <th>5746</th>\n",
       "      <td>Qatar</td>\n",
       "      <td>2020</td>\n",
       "      <td>89019.069857</td>\n",
       "    </tr>\n",
       "    <tr>\n",
       "      <th>681</th>\n",
       "      <td>Bermuda</td>\n",
       "      <td>2020</td>\n",
       "      <td>76117.804744</td>\n",
       "    </tr>\n",
       "    <tr>\n",
       "      <th>...</th>\n",
       "      <td>...</td>\n",
       "      <td>...</td>\n",
       "      <td>...</td>\n",
       "    </tr>\n",
       "    <tr>\n",
       "      <th>5074</th>\n",
       "      <td>Niger</td>\n",
       "      <td>2020</td>\n",
       "      <td>1214.546556</td>\n",
       "    </tr>\n",
       "    <tr>\n",
       "      <th>6273</th>\n",
       "      <td>Somalia</td>\n",
       "      <td>2020</td>\n",
       "      <td>1127.418534</td>\n",
       "    </tr>\n",
       "    <tr>\n",
       "      <th>1630</th>\n",
       "      <td>Dem. Rep. Congo</td>\n",
       "      <td>2020</td>\n",
       "      <td>1044.071214</td>\n",
       "    </tr>\n",
       "    <tr>\n",
       "      <th>1217</th>\n",
       "      <td>Central African Republic</td>\n",
       "      <td>2020</td>\n",
       "      <td>847.765012</td>\n",
       "    </tr>\n",
       "    <tr>\n",
       "      <th>973</th>\n",
       "      <td>Burundi</td>\n",
       "      <td>2020</td>\n",
       "      <td>711.355263</td>\n",
       "    </tr>\n",
       "  </tbody>\n",
       "</table>\n",
       "<p>242 rows × 3 columns</p>\n",
       "</div>"
      ],
      "text/plain": [
       "                       Country  Year  GDP_Per_Capita\n",
       "4148                Luxembourg  2020   111751.314751\n",
       "6108                 Singapore  2020    94910.101431\n",
       "3279                   Ireland  2020    91356.855054\n",
       "5746                     Qatar  2020    89019.069857\n",
       "681                    Bermuda  2020    76117.804744\n",
       "...                        ...   ...             ...\n",
       "5074                     Niger  2020     1214.546556\n",
       "6273                   Somalia  2020     1127.418534\n",
       "1630           Dem. Rep. Congo  2020     1044.071214\n",
       "1217  Central African Republic  2020      847.765012\n",
       "973                    Burundi  2020      711.355263\n",
       "\n",
       "[242 rows x 3 columns]"
      ]
     },
     "execution_count": 184,
     "metadata": {},
     "output_type": "execute_result"
    }
   ],
   "source": [
    "#Find the country with the highest GDP in 2020, by filtering the year in the dataset, sorting by gdp in decending order.\n",
    "highest_gdp = gdp_df[gdp_df['Year'] == 2020].sort_values('GDP_Per_Capita', ascending = False)\n",
    "highest_gdp"
   ]
  },
  {
   "cell_type": "code",
   "execution_count": 182,
   "id": "873c7b65-bdb4-4d97-9aa0-e922eb6290de",
   "metadata": {},
   "outputs": [
    {
     "data": {
      "text/html": [
       "<div>\n",
       "<style scoped>\n",
       "    .dataframe tbody tr th:only-of-type {\n",
       "        vertical-align: middle;\n",
       "    }\n",
       "\n",
       "    .dataframe tbody tr th {\n",
       "        vertical-align: top;\n",
       "    }\n",
       "\n",
       "    .dataframe thead th {\n",
       "        text-align: right;\n",
       "    }\n",
       "</style>\n",
       "<table border=\"1\" class=\"dataframe\">\n",
       "  <thead>\n",
       "    <tr style=\"text-align: right;\">\n",
       "      <th></th>\n",
       "      <th>Country</th>\n",
       "      <th>Year</th>\n",
       "      <th>GDP_Per_Capita</th>\n",
       "    </tr>\n",
       "  </thead>\n",
       "  <tbody>\n",
       "    <tr>\n",
       "      <th>4188</th>\n",
       "      <td>Macao SAR, China</td>\n",
       "      <td>2013</td>\n",
       "      <td>157602.482546</td>\n",
       "    </tr>\n",
       "  </tbody>\n",
       "</table>\n",
       "</div>"
      ],
      "text/plain": [
       "               Country  Year  GDP_Per_Capita\n",
       "4188  Macao SAR, China  2013   157602.482546"
      ]
     },
     "execution_count": 182,
     "metadata": {},
     "output_type": "execute_result"
    }
   ],
   "source": [
    "#Try using max\n",
    "#max_gdp = gdp_df[gdp_df['GDP_Per_Capita'].max()\n",
    "#example_gdp = gdp_df[gdp_df['GDP_Per_Capita'] == max_gdp]\n",
    "#example_gdp"
   ]
  },
  {
   "cell_type": "code",
   "execution_count": 41,
   "id": "2bb460ff-a202-47f9-b19c-73eba61e611d",
   "metadata": {},
   "outputs": [
    {
     "data": {
      "text/html": [
       "<div>\n",
       "<style scoped>\n",
       "    .dataframe tbody tr th:only-of-type {\n",
       "        vertical-align: middle;\n",
       "    }\n",
       "\n",
       "    .dataframe tbody tr th {\n",
       "        vertical-align: top;\n",
       "    }\n",
       "\n",
       "    .dataframe thead th {\n",
       "        text-align: right;\n",
       "    }\n",
       "</style>\n",
       "<table border=\"1\" class=\"dataframe\">\n",
       "  <thead>\n",
       "    <tr style=\"text-align: right;\">\n",
       "      <th></th>\n",
       "      <th>Country</th>\n",
       "      <th>Year</th>\n",
       "      <th>GDP_Per_Capita</th>\n",
       "    </tr>\n",
       "  </thead>\n",
       "  <tbody>\n",
       "    <tr>\n",
       "      <th>4146</th>\n",
       "      <td>Luxembourg</td>\n",
       "      <td>2022</td>\n",
       "      <td>115541.774828</td>\n",
       "    </tr>\n",
       "    <tr>\n",
       "      <th>4147</th>\n",
       "      <td>Luxembourg</td>\n",
       "      <td>2021</td>\n",
       "      <td>115683.493708</td>\n",
       "    </tr>\n",
       "    <tr>\n",
       "      <th>4148</th>\n",
       "      <td>Luxembourg</td>\n",
       "      <td>2020</td>\n",
       "      <td>111751.314751</td>\n",
       "    </tr>\n",
       "    <tr>\n",
       "      <th>4149</th>\n",
       "      <td>Luxembourg</td>\n",
       "      <td>2019</td>\n",
       "      <td>114542.496934</td>\n",
       "    </tr>\n",
       "    <tr>\n",
       "      <th>4150</th>\n",
       "      <td>Luxembourg</td>\n",
       "      <td>2018</td>\n",
       "      <td>114164.468558</td>\n",
       "    </tr>\n",
       "  </tbody>\n",
       "</table>\n",
       "</div>"
      ],
      "text/plain": [
       "         Country  Year  GDP_Per_Capita\n",
       "4146  Luxembourg  2022   115541.774828\n",
       "4147  Luxembourg  2021   115683.493708\n",
       "4148  Luxembourg  2020   111751.314751\n",
       "4149  Luxembourg  2019   114542.496934\n",
       "4150  Luxembourg  2018   114164.468558"
      ]
     },
     "execution_count": 41,
     "metadata": {},
     "output_type": "execute_result"
    }
   ],
   "source": [
    "#Create a dataframe that filters just Luxembourg data\n",
    "luxembourg = gdp_df[gdp_df['Country'] == 'Luxembourg']\n",
    "luxembourg.head()"
   ]
  },
  {
   "cell_type": "code",
   "execution_count": 42,
   "id": "e0541da6-27cc-4dc6-8bbc-7eb8a569bbe1",
   "metadata": {},
   "outputs": [
    {
     "data": {
      "image/png": "[encoded data removed]",
      "text/plain": [
       "<Figure size 800x600 with 1 Axes>"
      ]
     },
     "metadata": {},
     "output_type": "display_data"
    }
   ],
   "source": [
    "#Create a plot\n",
    "plt.figure(figsize=(8, 6)) # Width and Height of the chart\n",
    "sns.lineplot(x='Year',\n",
    "             y='GDP_Per_Capita', color = 'darkseagreen',\n",
    "             data=luxembourg,\n",
    "             marker='*', # Style used to mark the join between 2 points\n",
    "             markersize=15\n",
    "            )\n",
    "plt.xlabel('Year') # x-axis name\n",
    "plt.ylabel('GDP Per Capita') # y-axis name\n",
    "plt.title('Luxembourg GDP Per Capita Over Time') # Add a title\n",
    "plt.show() # Display the graph"
   ]
  },
  {
   "cell_type": "markdown",
   "id": "fd0ecacf-8b24-4b62-9954-7e3632bb327f",
   "metadata": {},
   "source": [
    "13. Which country had the lowest GDP per capita in 2020? Create a plot showing how this country's GDP per capita has changed over the timespan of the dataset."
   ]
  },
  {
   "cell_type": "code",
   "execution_count": 44,
   "id": "4883866c-2e53-4268-ac18-92f07c70977c",
   "metadata": {},
   "outputs": [
    {
     "data": {
      "text/html": [
       "<div>\n",
       "<style scoped>\n",
       "    .dataframe tbody tr th:only-of-type {\n",
       "        vertical-align: middle;\n",
       "    }\n",
       "\n",
       "    .dataframe tbody tr th {\n",
       "        vertical-align: top;\n",
       "    }\n",
       "\n",
       "    .dataframe thead th {\n",
       "        text-align: right;\n",
       "    }\n",
       "</style>\n",
       "<table border=\"1\" class=\"dataframe\">\n",
       "  <thead>\n",
       "    <tr style=\"text-align: right;\">\n",
       "      <th></th>\n",
       "      <th>Country</th>\n",
       "      <th>Year</th>\n",
       "      <th>GDP_Per_Capita</th>\n",
       "    </tr>\n",
       "  </thead>\n",
       "  <tbody>\n",
       "    <tr>\n",
       "      <th>971</th>\n",
       "      <td>Burundi</td>\n",
       "      <td>2022</td>\n",
       "      <td>708.178317</td>\n",
       "    </tr>\n",
       "    <tr>\n",
       "      <th>972</th>\n",
       "      <td>Burundi</td>\n",
       "      <td>2021</td>\n",
       "      <td>714.066712</td>\n",
       "    </tr>\n",
       "    <tr>\n",
       "      <th>973</th>\n",
       "      <td>Burundi</td>\n",
       "      <td>2020</td>\n",
       "      <td>711.355263</td>\n",
       "    </tr>\n",
       "    <tr>\n",
       "      <th>974</th>\n",
       "      <td>Burundi</td>\n",
       "      <td>2019</td>\n",
       "      <td>729.658463</td>\n",
       "    </tr>\n",
       "    <tr>\n",
       "      <th>975</th>\n",
       "      <td>Burundi</td>\n",
       "      <td>2018</td>\n",
       "      <td>740.448223</td>\n",
       "    </tr>\n",
       "  </tbody>\n",
       "</table>\n",
       "</div>"
      ],
      "text/plain": [
       "     Country  Year  GDP_Per_Capita\n",
       "971  Burundi  2022      708.178317\n",
       "972  Burundi  2021      714.066712\n",
       "973  Burundi  2020      711.355263\n",
       "974  Burundi  2019      729.658463\n",
       "975  Burundi  2018      740.448223"
      ]
     },
     "execution_count": 44,
     "metadata": {},
     "output_type": "execute_result"
    }
   ],
   "source": [
    "#Using the highest GDP dataframe, I can see that Burundi is at the bottom of the list.\n",
    "burundi = gdp_df[gdp_df['Country'] == 'Burundi']\n",
    "burundi.head()"
   ]
  },
  {
   "cell_type": "code",
   "execution_count": 45,
   "id": "d57d815b-0b2b-4780-a249-a84230e8fa4b",
   "metadata": {
    "scrolled": true
   },
   "outputs": [
    {
     "data": {
      "image/png": "[encoded data removed]",
      "text/plain": [
       "<Figure size 800x600 with 1 Axes>"
      ]
     },
     "metadata": {},
     "output_type": "display_data"
    }
   ],
   "source": [
    "#Scatterplot\n",
    "plt.figure(figsize=(8, 6)) # Width and Height of the chart\n",
    "sns.lineplot(x='Year',\n",
    "             y='GDP_Per_Capita', color = 'darkseagreen',\n",
    "             data=burundi,\n",
    "             marker='X', # Style used to mark the join between 2 points\n",
    "             markersize=10\n",
    "            )\n",
    "plt.xlabel('Year') # x-axis name\n",
    "plt.ylabel('GDP Per Capita') # y-axis name\n",
    "plt.title('Burundi GDP Per Capita Over Time') # Add a title\n",
    "plt.show() # Display the graph"
   ]
  },
  {
   "cell_type": "markdown",
   "id": "033cdf54-5b22-43ec-ac29-eccde35ce3ee",
   "metadata": {},
   "source": [
    "**Bonus question:** Is it true in general that coutries had a higher GDP per capita in 2020 than in 1990? Which countries had lower GDP per capita in 2020 than in 1990?"
   ]
  },
  {
   "cell_type": "code",
   "execution_count": 194,
   "id": "20b3c8e6-65e3-46b3-aef2-f6c5b97111d7",
   "metadata": {
    "scrolled": true
   },
   "outputs": [
    {
     "data": {
      "text/html": [
       "<div>\n",
       "<style scoped>\n",
       "    .dataframe tbody tr th:only-of-type {\n",
       "        vertical-align: middle;\n",
       "    }\n",
       "\n",
       "    .dataframe tbody tr th {\n",
       "        vertical-align: top;\n",
       "    }\n",
       "\n",
       "    .dataframe thead th {\n",
       "        text-align: right;\n",
       "    }\n",
       "</style>\n",
       "<table border=\"1\" class=\"dataframe\">\n",
       "  <thead>\n",
       "    <tr style=\"text-align: right;\">\n",
       "      <th></th>\n",
       "      <th>Country</th>\n",
       "      <th>Year_1990</th>\n",
       "      <th>GDP_Per_Capita_1990</th>\n",
       "      <th>Year_2020</th>\n",
       "      <th>GDP_Per_Capita_2020</th>\n",
       "      <th>2020_lower</th>\n",
       "    </tr>\n",
       "  </thead>\n",
       "  <tbody>\n",
       "    <tr>\n",
       "      <th>0</th>\n",
       "      <td>Africa Eastern and Southern</td>\n",
       "      <td>1990</td>\n",
       "      <td>3037.297466</td>\n",
       "      <td>2020</td>\n",
       "      <td>3455.023119</td>\n",
       "      <td>False</td>\n",
       "    </tr>\n",
       "    <tr>\n",
       "      <th>1</th>\n",
       "      <td>Africa Western and Central</td>\n",
       "      <td>1990</td>\n",
       "      <td>2788.301039</td>\n",
       "      <td>2020</td>\n",
       "      <td>3957.933804</td>\n",
       "      <td>False</td>\n",
       "    </tr>\n",
       "    <tr>\n",
       "      <th>2</th>\n",
       "      <td>Albania</td>\n",
       "      <td>1990</td>\n",
       "      <td>4827.027705</td>\n",
       "      <td>2020</td>\n",
       "      <td>13278.369769</td>\n",
       "      <td>False</td>\n",
       "    </tr>\n",
       "    <tr>\n",
       "      <th>3</th>\n",
       "      <td>Algeria</td>\n",
       "      <td>1990</td>\n",
       "      <td>8828.874473</td>\n",
       "      <td>2020</td>\n",
       "      <td>10844.770764</td>\n",
       "      <td>False</td>\n",
       "    </tr>\n",
       "    <tr>\n",
       "      <th>4</th>\n",
       "      <td>Angola</td>\n",
       "      <td>1990</td>\n",
       "      <td>5793.084512</td>\n",
       "      <td>2020</td>\n",
       "      <td>6029.691895</td>\n",
       "      <td>False</td>\n",
       "    </tr>\n",
       "    <tr>\n",
       "      <th>...</th>\n",
       "      <td>...</td>\n",
       "      <td>...</td>\n",
       "      <td>...</td>\n",
       "      <td>...</td>\n",
       "      <td>...</td>\n",
       "      <td>...</td>\n",
       "    </tr>\n",
       "    <tr>\n",
       "      <th>202</th>\n",
       "      <td>Vanuatu</td>\n",
       "      <td>1990</td>\n",
       "      <td>2774.138350</td>\n",
       "      <td>2020</td>\n",
       "      <td>2848.970240</td>\n",
       "      <td>False</td>\n",
       "    </tr>\n",
       "    <tr>\n",
       "      <th>203</th>\n",
       "      <td>Viet Nam</td>\n",
       "      <td>1990</td>\n",
       "      <td>2099.394649</td>\n",
       "      <td>2020</td>\n",
       "      <td>10450.622382</td>\n",
       "      <td>False</td>\n",
       "    </tr>\n",
       "    <tr>\n",
       "      <th>204</th>\n",
       "      <td>World</td>\n",
       "      <td>1990</td>\n",
       "      <td>9705.981267</td>\n",
       "      <td>2020</td>\n",
       "      <td>16204.169107</td>\n",
       "      <td>False</td>\n",
       "    </tr>\n",
       "    <tr>\n",
       "      <th>205</th>\n",
       "      <td>Zambia</td>\n",
       "      <td>1990</td>\n",
       "      <td>2290.039226</td>\n",
       "      <td>2020</td>\n",
       "      <td>3183.650773</td>\n",
       "      <td>False</td>\n",
       "    </tr>\n",
       "    <tr>\n",
       "      <th>206</th>\n",
       "      <td>Zimbabwe</td>\n",
       "      <td>1990</td>\n",
       "      <td>2704.757299</td>\n",
       "      <td>2020</td>\n",
       "      <td>1990.319419</td>\n",
       "      <td>True</td>\n",
       "    </tr>\n",
       "  </tbody>\n",
       "</table>\n",
       "<p>207 rows × 6 columns</p>\n",
       "</div>"
      ],
      "text/plain": [
       "                         Country  Year_1990  GDP_Per_Capita_1990  Year_2020  \\\n",
       "0    Africa Eastern and Southern       1990          3037.297466       2020   \n",
       "1     Africa Western and Central       1990          2788.301039       2020   \n",
       "2                        Albania       1990          4827.027705       2020   \n",
       "3                        Algeria       1990          8828.874473       2020   \n",
       "4                         Angola       1990          5793.084512       2020   \n",
       "..                           ...        ...                  ...        ...   \n",
       "202                      Vanuatu       1990          2774.138350       2020   \n",
       "203                     Viet Nam       1990          2099.394649       2020   \n",
       "204                        World       1990          9705.981267       2020   \n",
       "205                       Zambia       1990          2290.039226       2020   \n",
       "206                     Zimbabwe       1990          2704.757299       2020   \n",
       "\n",
       "     GDP_Per_Capita_2020  2020_lower  \n",
       "0            3455.023119       False  \n",
       "1            3957.933804       False  \n",
       "2           13278.369769       False  \n",
       "3           10844.770764       False  \n",
       "4            6029.691895       False  \n",
       "..                   ...         ...  \n",
       "202          2848.970240       False  \n",
       "203         10450.622382       False  \n",
       "204         16204.169107       False  \n",
       "205          3183.650773       False  \n",
       "206          1990.319419        True  \n",
       "\n",
       "[207 rows x 6 columns]"
      ]
     },
     "execution_count": 194,
     "metadata": {},
     "output_type": "execute_result"
    }
   ],
   "source": [
    "gdp_comparison = pd.merge(\n",
    "    left = gdp_df[gdp_df['Year'] == 1990],\n",
    "    right = gdp_df[gdp_df['Year'] == 2020],\n",
    "    on = 'Country',\n",
    "    suffixes = ['_1990','_2020']\n",
    ")\n",
    "gdp_comparison['2020_lower'] = gdp_comparison['GDP_Per_Capita_2020'] < gdp_comparison['GDP_Per_Capita_1990']\n",
    "gdp_comparison"
   ]
  },
  {
   "cell_type": "code",
   "execution_count": 198,
   "id": "537f4eef-bb4f-4c39-aeb4-6bf083f14a7b",
   "metadata": {},
   "outputs": [
    {
     "data": {
      "text/plain": [
       "2020_lower\n",
       "False    188\n",
       "True      19\n",
       "Name: count, dtype: int64"
      ]
     },
     "execution_count": 198,
     "metadata": {},
     "output_type": "execute_result"
    }
   ],
   "source": [
    "gdp_comparison['2020_lower'].value_counts()"
   ]
  },
  {
   "cell_type": "markdown",
   "id": "14edc089-8d78-41ec-94a6-c79399e29988",
   "metadata": {},
   "source": [
    "14. Read in the internet use dataset into a DataFrame named `internet_df`. You will likely get errors when doing this. Check the arguments for the read_csv function to find ones that can help correct the errors (https://pandas.pydata.org/docs/reference/api/pandas.read_csv.html) Once you are able to read it in, take per a look at the top and bottom few rows to make sure that it has been read in correctly. Also, check the datatypes of the columns."
   ]
  },
  {
   "cell_type": "code",
   "execution_count": 47,
   "id": "4f57dadf-9e48-4b1b-b86e-96b38bde03d8",
   "metadata": {},
   "outputs": [
    {
     "data": {
      "text/html": [
       "<div>\n",
       "<style scoped>\n",
       "    .dataframe tbody tr th:only-of-type {\n",
       "        vertical-align: middle;\n",
       "    }\n",
       "\n",
       "    .dataframe tbody tr th {\n",
       "        vertical-align: top;\n",
       "    }\n",
       "\n",
       "    .dataframe thead th {\n",
       "        text-align: right;\n",
       "    }\n",
       "</style>\n",
       "<table border=\"1\" class=\"dataframe\">\n",
       "  <thead>\n",
       "    <tr style=\"text-align: right;\">\n",
       "      <th></th>\n",
       "      <th>Country or Area</th>\n",
       "      <th>Year</th>\n",
       "      <th>Value</th>\n",
       "      <th>Value Footnotes</th>\n",
       "    </tr>\n",
       "  </thead>\n",
       "  <tbody>\n",
       "    <tr>\n",
       "      <th>0</th>\n",
       "      <td>Afghanistan</td>\n",
       "      <td>2019</td>\n",
       "      <td>17.600000</td>\n",
       "      <td>1</td>\n",
       "    </tr>\n",
       "    <tr>\n",
       "      <th>1</th>\n",
       "      <td>Afghanistan</td>\n",
       "      <td>2018</td>\n",
       "      <td>16.800000</td>\n",
       "      <td>2</td>\n",
       "    </tr>\n",
       "    <tr>\n",
       "      <th>2</th>\n",
       "      <td>Afghanistan</td>\n",
       "      <td>2017</td>\n",
       "      <td>13.500000</td>\n",
       "      <td>3</td>\n",
       "    </tr>\n",
       "    <tr>\n",
       "      <th>3</th>\n",
       "      <td>Afghanistan</td>\n",
       "      <td>2016</td>\n",
       "      <td>11.000000</td>\n",
       "      <td>4</td>\n",
       "    </tr>\n",
       "    <tr>\n",
       "      <th>4</th>\n",
       "      <td>Afghanistan</td>\n",
       "      <td>2015</td>\n",
       "      <td>8.260000</td>\n",
       "      <td>4</td>\n",
       "    </tr>\n",
       "    <tr>\n",
       "      <th>...</th>\n",
       "      <td>...</td>\n",
       "      <td>...</td>\n",
       "      <td>...</td>\n",
       "      <td>...</td>\n",
       "    </tr>\n",
       "    <tr>\n",
       "      <th>6078</th>\n",
       "      <td>Zimbabwe</td>\n",
       "      <td>1997</td>\n",
       "      <td>0.033080</td>\n",
       "      <td>NaN</td>\n",
       "    </tr>\n",
       "    <tr>\n",
       "      <th>6079</th>\n",
       "      <td>Zimbabwe</td>\n",
       "      <td>1996</td>\n",
       "      <td>0.016790</td>\n",
       "      <td>NaN</td>\n",
       "    </tr>\n",
       "    <tr>\n",
       "      <th>6080</th>\n",
       "      <td>Zimbabwe</td>\n",
       "      <td>1995</td>\n",
       "      <td>0.007684</td>\n",
       "      <td>NaN</td>\n",
       "    </tr>\n",
       "    <tr>\n",
       "      <th>6081</th>\n",
       "      <td>Zimbabwe</td>\n",
       "      <td>1994</td>\n",
       "      <td>0.001739</td>\n",
       "      <td>NaN</td>\n",
       "    </tr>\n",
       "    <tr>\n",
       "      <th>6082</th>\n",
       "      <td>Zimbabwe</td>\n",
       "      <td>1990</td>\n",
       "      <td>0.000000</td>\n",
       "      <td>NaN</td>\n",
       "    </tr>\n",
       "  </tbody>\n",
       "</table>\n",
       "<p>6083 rows × 4 columns</p>\n",
       "</div>"
      ],
      "text/plain": [
       "     Country or Area  Year      Value Value Footnotes\n",
       "0        Afghanistan  2019  17.600000               1\n",
       "1        Afghanistan  2018  16.800000               2\n",
       "2        Afghanistan  2017  13.500000               3\n",
       "3        Afghanistan  2016  11.000000               4\n",
       "4        Afghanistan  2015   8.260000               4\n",
       "...              ...   ...        ...             ...\n",
       "6078        Zimbabwe  1997   0.033080             NaN\n",
       "6079        Zimbabwe  1996   0.016790             NaN\n",
       "6080        Zimbabwe  1995   0.007684             NaN\n",
       "6081        Zimbabwe  1994   0.001739             NaN\n",
       "6082        Zimbabwe  1990   0.000000             NaN\n",
       "\n",
       "[6083 rows x 4 columns]"
      ]
     },
     "execution_count": 47,
     "metadata": {},
     "output_type": "execute_result"
    }
   ],
   "source": [
    "#It looks like reading in the csv caused an error, there are too many fields in one of the lines. Using on_bad_lines{‘error’, ‘warn’, ‘skip’} can help solve a problem caused by a line with too many fields \n",
    "#internet_df = pd.read_csv('../data/internet_use.csv', on_bad_lines='skip')\n",
    "internet_df = pd.read_csv('../data/internet_use.csv',nrows=6083)\n",
    "internet_df"
   ]
  },
  {
   "cell_type": "code",
   "execution_count": 48,
   "id": "d80c9ba1-8ee6-4aad-8cb7-b3d73ebf302d",
   "metadata": {},
   "outputs": [
    {
     "name": "stdout",
     "output_type": "stream",
     "text": [
      "<class 'pandas.core.frame.DataFrame'>\n",
      "RangeIndex: 6083 entries, 0 to 6082\n",
      "Data columns (total 4 columns):\n",
      " #   Column           Non-Null Count  Dtype  \n",
      "---  ------           --------------  -----  \n",
      " 0   Country or Area  6083 non-null   object \n",
      " 1   Year             6083 non-null   int64  \n",
      " 2   Value            6083 non-null   float64\n",
      " 3   Value Footnotes  2826 non-null   object \n",
      "dtypes: float64(1), int64(1), object(2)\n",
      "memory usage: 190.2+ KB\n"
     ]
    }
   ],
   "source": [
    "#Check the datatypes\n",
    "internet_df.info()"
   ]
  },
  {
   "cell_type": "markdown",
   "id": "d6cd7396-2536-4521-9eea-7844279cdc01",
   "metadata": {},
   "source": [
    "15. Drop the `Value Footnotes` column and rename the remaining three to 'Country', 'Year', and 'Internet_Users_Pct'."
   ]
  },
  {
   "cell_type": "code",
   "execution_count": 50,
   "id": "a15b0d36-ab5d-4da2-ae0f-da491e17c7d1",
   "metadata": {},
   "outputs": [
    {
     "data": {
      "text/html": [
       "<div>\n",
       "<style scoped>\n",
       "    .dataframe tbody tr th:only-of-type {\n",
       "        vertical-align: middle;\n",
       "    }\n",
       "\n",
       "    .dataframe tbody tr th {\n",
       "        vertical-align: top;\n",
       "    }\n",
       "\n",
       "    .dataframe thead th {\n",
       "        text-align: right;\n",
       "    }\n",
       "</style>\n",
       "<table border=\"1\" class=\"dataframe\">\n",
       "  <thead>\n",
       "    <tr style=\"text-align: right;\">\n",
       "      <th></th>\n",
       "      <th>Country</th>\n",
       "      <th>Year</th>\n",
       "      <th>Internet_Users_Pct</th>\n",
       "    </tr>\n",
       "  </thead>\n",
       "  <tbody>\n",
       "    <tr>\n",
       "      <th>0</th>\n",
       "      <td>Afghanistan</td>\n",
       "      <td>2019</td>\n",
       "      <td>17.600000</td>\n",
       "    </tr>\n",
       "    <tr>\n",
       "      <th>1</th>\n",
       "      <td>Afghanistan</td>\n",
       "      <td>2018</td>\n",
       "      <td>16.800000</td>\n",
       "    </tr>\n",
       "    <tr>\n",
       "      <th>2</th>\n",
       "      <td>Afghanistan</td>\n",
       "      <td>2017</td>\n",
       "      <td>13.500000</td>\n",
       "    </tr>\n",
       "    <tr>\n",
       "      <th>3</th>\n",
       "      <td>Afghanistan</td>\n",
       "      <td>2016</td>\n",
       "      <td>11.000000</td>\n",
       "    </tr>\n",
       "    <tr>\n",
       "      <th>4</th>\n",
       "      <td>Afghanistan</td>\n",
       "      <td>2015</td>\n",
       "      <td>8.260000</td>\n",
       "    </tr>\n",
       "    <tr>\n",
       "      <th>...</th>\n",
       "      <td>...</td>\n",
       "      <td>...</td>\n",
       "      <td>...</td>\n",
       "    </tr>\n",
       "    <tr>\n",
       "      <th>6078</th>\n",
       "      <td>Zimbabwe</td>\n",
       "      <td>1997</td>\n",
       "      <td>0.033080</td>\n",
       "    </tr>\n",
       "    <tr>\n",
       "      <th>6079</th>\n",
       "      <td>Zimbabwe</td>\n",
       "      <td>1996</td>\n",
       "      <td>0.016790</td>\n",
       "    </tr>\n",
       "    <tr>\n",
       "      <th>6080</th>\n",
       "      <td>Zimbabwe</td>\n",
       "      <td>1995</td>\n",
       "      <td>0.007684</td>\n",
       "    </tr>\n",
       "    <tr>\n",
       "      <th>6081</th>\n",
       "      <td>Zimbabwe</td>\n",
       "      <td>1994</td>\n",
       "      <td>0.001739</td>\n",
       "    </tr>\n",
       "    <tr>\n",
       "      <th>6082</th>\n",
       "      <td>Zimbabwe</td>\n",
       "      <td>1990</td>\n",
       "      <td>0.000000</td>\n",
       "    </tr>\n",
       "  </tbody>\n",
       "</table>\n",
       "<p>6083 rows × 3 columns</p>\n",
       "</div>"
      ],
      "text/plain": [
       "          Country  Year  Internet_Users_Pct\n",
       "0     Afghanistan  2019           17.600000\n",
       "1     Afghanistan  2018           16.800000\n",
       "2     Afghanistan  2017           13.500000\n",
       "3     Afghanistan  2016           11.000000\n",
       "4     Afghanistan  2015            8.260000\n",
       "...           ...   ...                 ...\n",
       "6078     Zimbabwe  1997            0.033080\n",
       "6079     Zimbabwe  1996            0.016790\n",
       "6080     Zimbabwe  1995            0.007684\n",
       "6081     Zimbabwe  1994            0.001739\n",
       "6082     Zimbabwe  1990            0.000000\n",
       "\n",
       "[6083 rows x 3 columns]"
      ]
     },
     "execution_count": 50,
     "metadata": {},
     "output_type": "execute_result"
    }
   ],
   "source": [
    "internet_df = internet_df.drop('Value Footnotes', axis = 1).rename(columns={'Country or Area':'Country', 'Year':'Year', 'Value':'Internet_Users_Pct'})\n",
    "internet_df"
   ]
  },
  {
   "cell_type": "markdown",
   "id": "e1ea7563-346b-4022-8d36-e21a96ea64f1",
   "metadata": {},
   "source": [
    "16. Look at the number of observations in this dataset per year. What do you notice?"
   ]
  },
  {
   "cell_type": "code",
   "execution_count": 52,
   "id": "abae6854-62ba-4fa6-a85a-91ec69902067",
   "metadata": {},
   "outputs": [
    {
     "data": {
      "text/plain": [
       "Year\n",
       "1990    226\n",
       "2007    217\n",
       "2008    214\n",
       "2011    214\n",
       "2009    214\n",
       "2002    214\n",
       "2001    212\n",
       "2005    212\n",
       "2006    212\n",
       "2004    210\n",
       "2000    210\n",
       "2010    209\n",
       "2012    209\n",
       "2003    208\n",
       "1999    207\n",
       "2016    206\n",
       "2017    205\n",
       "2014    204\n",
       "2013    203\n",
       "2015    203\n",
       "1998    195\n",
       "1997    188\n",
       "2021    186\n",
       "2020    186\n",
       "2019    185\n",
       "2022    184\n",
       "1996    177\n",
       "2018    174\n",
       "1995    141\n",
       "1994     92\n",
       "1993     66\n",
       "1992     50\n",
       "1991     39\n",
       "2023     11\n",
       "Name: count, dtype: int64"
      ]
     },
     "execution_count": 52,
     "metadata": {},
     "output_type": "execute_result"
    }
   ],
   "source": [
    "internet_df.value_counts('Year')"
   ]
  },
  {
   "cell_type": "markdown",
   "id": "c3c7f15e-b58b-4d7c-a24d-08191d0baf53",
   "metadata": {},
   "source": [
    "17. What is the first year to have a non-zero internet users percentage value?"
   ]
  },
  {
   "cell_type": "code",
   "execution_count": 54,
   "id": "2bbf0205-272d-4976-b68c-3fbcca8b1785",
   "metadata": {},
   "outputs": [
    {
     "data": {
      "text/html": [
       "<div>\n",
       "<style scoped>\n",
       "    .dataframe tbody tr th:only-of-type {\n",
       "        vertical-align: middle;\n",
       "    }\n",
       "\n",
       "    .dataframe tbody tr th {\n",
       "        vertical-align: top;\n",
       "    }\n",
       "\n",
       "    .dataframe thead th {\n",
       "        text-align: right;\n",
       "    }\n",
       "</style>\n",
       "<table border=\"1\" class=\"dataframe\">\n",
       "  <thead>\n",
       "    <tr style=\"text-align: right;\">\n",
       "      <th></th>\n",
       "      <th>Country</th>\n",
       "      <th>Year</th>\n",
       "      <th>Internet_Users_Pct</th>\n",
       "    </tr>\n",
       "  </thead>\n",
       "  <tbody>\n",
       "    <tr>\n",
       "      <th>543</th>\n",
       "      <td>Belgium</td>\n",
       "      <td>1990</td>\n",
       "      <td>0.001007</td>\n",
       "    </tr>\n",
       "    <tr>\n",
       "      <th>5150</th>\n",
       "      <td>Spain</td>\n",
       "      <td>1990</td>\n",
       "      <td>0.012874</td>\n",
       "    </tr>\n",
       "    <tr>\n",
       "      <th>2829</th>\n",
       "      <td>Italy</td>\n",
       "      <td>1990</td>\n",
       "      <td>0.017545</td>\n",
       "    </tr>\n",
       "    <tr>\n",
       "      <th>2892</th>\n",
       "      <td>Japan</td>\n",
       "      <td>1990</td>\n",
       "      <td>0.020294</td>\n",
       "    </tr>\n",
       "    <tr>\n",
       "      <th>3054</th>\n",
       "      <td>Korea (Republic  of)</td>\n",
       "      <td>1990</td>\n",
       "      <td>0.023265</td>\n",
       "    </tr>\n",
       "    <tr>\n",
       "      <th>...</th>\n",
       "      <td>...</td>\n",
       "      <td>...</td>\n",
       "      <td>...</td>\n",
       "    </tr>\n",
       "    <tr>\n",
       "      <th>2159</th>\n",
       "      <td>Germany</td>\n",
       "      <td>2023</td>\n",
       "      <td>92.476400</td>\n",
       "    </tr>\n",
       "    <tr>\n",
       "      <th>5266</th>\n",
       "      <td>Sweden</td>\n",
       "      <td>2023</td>\n",
       "      <td>95.703300</td>\n",
       "    </tr>\n",
       "    <tr>\n",
       "      <th>1537</th>\n",
       "      <td>Denmark</td>\n",
       "      <td>2023</td>\n",
       "      <td>98.775600</td>\n",
       "    </tr>\n",
       "    <tr>\n",
       "      <th>3323</th>\n",
       "      <td>Luxembourg</td>\n",
       "      <td>2023</td>\n",
       "      <td>99.347900</td>\n",
       "    </tr>\n",
       "    <tr>\n",
       "      <th>3057</th>\n",
       "      <td>Kuwait</td>\n",
       "      <td>2023</td>\n",
       "      <td>99.747300</td>\n",
       "    </tr>\n",
       "  </tbody>\n",
       "</table>\n",
       "<p>5803 rows × 3 columns</p>\n",
       "</div>"
      ],
      "text/plain": [
       "                   Country  Year  Internet_Users_Pct\n",
       "543                Belgium  1990            0.001007\n",
       "5150                 Spain  1990            0.012874\n",
       "2829                 Italy  1990            0.017545\n",
       "2892                 Japan  1990            0.020294\n",
       "3054  Korea (Republic  of)  1990            0.023265\n",
       "...                    ...   ...                 ...\n",
       "2159               Germany  2023           92.476400\n",
       "5266                Sweden  2023           95.703300\n",
       "1537               Denmark  2023           98.775600\n",
       "3323            Luxembourg  2023           99.347900\n",
       "3057                Kuwait  2023           99.747300\n",
       "\n",
       "[5803 rows x 3 columns]"
      ]
     },
     "execution_count": 54,
     "metadata": {},
     "output_type": "execute_result"
    }
   ],
   "source": [
    "#Filter the data to only include percentage over zero?\n",
    "non_zero = internet_df[internet_df['Internet_Users_Pct'] > 0].sort_values(['Year','Internet_Users_Pct'])\n",
    "non_zero"
   ]
  },
  {
   "cell_type": "markdown",
   "id": "1ed793fd-5096-448d-8244-6b07e7df6ded",
   "metadata": {},
   "source": [
    "Answer: 1990"
   ]
  },
  {
   "cell_type": "markdown",
   "id": "d47c71ca-8cef-48f0-b71b-eea310b75aaf",
   "metadata": {},
   "source": [
    " 18. How does the distribution of internet users percent differ for 2000 and 2014?"
   ]
  },
  {
   "cell_type": "code",
   "execution_count": 57,
   "id": "eaf24327-8ea3-42c6-a720-0e52417d8b82",
   "metadata": {
    "scrolled": true
   },
   "outputs": [
    {
     "data": {
      "image/png": "[encoded data removed]",
      "text/plain": [
       "<Figure size 640x480 with 1 Axes>"
      ]
     },
     "metadata": {},
     "output_type": "display_data"
    }
   ],
   "source": [
    "#Create dataframe that is just for the years 2000 & 2014\n",
    "zenon_year = internet_df[(internet_df['Year']==2000) | (internet_df['Year']==2014)]\n",
    "sns.histplot(data=zenon_year, x=\"Internet_Users_Pct\", hue=\"Year\", multiple=\"stack\")\n",
    "\n",
    "plt.xlabel('Percent of Internet Users') # x-axis name\n",
    "plt.ylabel('Number of Countries') # y-axis name\n",
    "plt.title('Distribution of Internet Users 2000 vs 2014') # Add a title\n",
    "plt.show() # Display the graph"
   ]
  },
  {
   "cell_type": "markdown",
   "id": "e43dbff2-465a-4862-b675-ef5f8b162460",
   "metadata": {},
   "source": [
    "19. For how many countries was the percentage of internet users below 5% in 2014?"
   ]
  },
  {
   "cell_type": "code",
   "execution_count": 59,
   "id": "6dd20f08-f241-4f53-93af-63ba73305636",
   "metadata": {},
   "outputs": [
    {
     "name": "stderr",
     "output_type": "stream",
     "text": [
      "/var/folders/pp/vy1cm1td64l94kkzc518f7jh0000gq/T/ipykernel_29670/878210801.py:2: UserWarning: Boolean Series key will be reindexed to match DataFrame index.\n",
      "  below_five = year_2014[internet_df['Internet_Users_Pct']< 5]\n"
     ]
    },
    {
     "data": {
      "text/plain": [
       "Country               10\n",
       "Year                  10\n",
       "Internet_Users_Pct    10\n",
       "dtype: int64"
      ]
     },
     "execution_count": 59,
     "metadata": {},
     "output_type": "execute_result"
    }
   ],
   "source": [
    "year_2014 = internet_df[internet_df['Year'] == 2014]\n",
    "below_five = year_2014[internet_df['Internet_Users_Pct']< 5]\n",
    "below_five.count()"
   ]
  },
  {
   "cell_type": "markdown",
   "id": "d6624a60-0906-41df-84c0-c5fe711bc6c4",
   "metadata": {},
   "source": [
    "20. Merge the two DataFrames to one. Do this in a way that keeps **all rows** from each of the two DataFrames. Call the new DataFrame `gdp_and_internet_use`. Look at the first and last few rows to confirm that it merged correctly. \n",
    "https://stackoverflow.com/questions/53645882/pandas-merging-101"
   ]
  },
  {
   "cell_type": "code",
   "execution_count": 61,
   "id": "5232266d-11ef-47ef-87e9-6880274ac32c",
   "metadata": {
    "scrolled": true
   },
   "outputs": [
    {
     "data": {
      "text/html": [
       "<div>\n",
       "<style scoped>\n",
       "    .dataframe tbody tr th:only-of-type {\n",
       "        vertical-align: middle;\n",
       "    }\n",
       "\n",
       "    .dataframe tbody tr th {\n",
       "        vertical-align: top;\n",
       "    }\n",
       "\n",
       "    .dataframe thead th {\n",
       "        text-align: right;\n",
       "    }\n",
       "</style>\n",
       "<table border=\"1\" class=\"dataframe\">\n",
       "  <thead>\n",
       "    <tr style=\"text-align: right;\">\n",
       "      <th></th>\n",
       "      <th>Country</th>\n",
       "      <th>Year</th>\n",
       "      <th>GDP_Per_Capita</th>\n",
       "      <th>Internet_Users_Pct</th>\n",
       "    </tr>\n",
       "  </thead>\n",
       "  <tbody>\n",
       "    <tr>\n",
       "      <th>0</th>\n",
       "      <td>Afghanistan</td>\n",
       "      <td>1990</td>\n",
       "      <td>NaN</td>\n",
       "      <td>0.000000</td>\n",
       "    </tr>\n",
       "    <tr>\n",
       "      <th>1</th>\n",
       "      <td>Afghanistan</td>\n",
       "      <td>2001</td>\n",
       "      <td>NaN</td>\n",
       "      <td>0.004723</td>\n",
       "    </tr>\n",
       "    <tr>\n",
       "      <th>2</th>\n",
       "      <td>Afghanistan</td>\n",
       "      <td>2002</td>\n",
       "      <td>1280.463171</td>\n",
       "      <td>0.004561</td>\n",
       "    </tr>\n",
       "    <tr>\n",
       "      <th>3</th>\n",
       "      <td>Afghanistan</td>\n",
       "      <td>2003</td>\n",
       "      <td>1292.333437</td>\n",
       "      <td>0.087891</td>\n",
       "    </tr>\n",
       "    <tr>\n",
       "      <th>4</th>\n",
       "      <td>Afghanistan</td>\n",
       "      <td>2004</td>\n",
       "      <td>1260.060581</td>\n",
       "      <td>0.105809</td>\n",
       "    </tr>\n",
       "    <tr>\n",
       "      <th>...</th>\n",
       "      <td>...</td>\n",
       "      <td>...</td>\n",
       "      <td>...</td>\n",
       "      <td>...</td>\n",
       "    </tr>\n",
       "    <tr>\n",
       "      <th>9107</th>\n",
       "      <td>Zimbabwe</td>\n",
       "      <td>2018</td>\n",
       "      <td>2399.621551</td>\n",
       "      <td>25.000000</td>\n",
       "    </tr>\n",
       "    <tr>\n",
       "      <th>9108</th>\n",
       "      <td>Zimbabwe</td>\n",
       "      <td>2019</td>\n",
       "      <td>2203.396810</td>\n",
       "      <td>26.588300</td>\n",
       "    </tr>\n",
       "    <tr>\n",
       "      <th>9109</th>\n",
       "      <td>Zimbabwe</td>\n",
       "      <td>2020</td>\n",
       "      <td>1990.319419</td>\n",
       "      <td>29.298600</td>\n",
       "    </tr>\n",
       "    <tr>\n",
       "      <th>9110</th>\n",
       "      <td>Zimbabwe</td>\n",
       "      <td>2021</td>\n",
       "      <td>2115.144555</td>\n",
       "      <td>32.461600</td>\n",
       "    </tr>\n",
       "    <tr>\n",
       "      <th>9111</th>\n",
       "      <td>Zimbabwe</td>\n",
       "      <td>2022</td>\n",
       "      <td>2143.237574</td>\n",
       "      <td>32.561500</td>\n",
       "    </tr>\n",
       "  </tbody>\n",
       "</table>\n",
       "<p>9112 rows × 4 columns</p>\n",
       "</div>"
      ],
      "text/plain": [
       "          Country  Year  GDP_Per_Capita  Internet_Users_Pct\n",
       "0     Afghanistan  1990             NaN            0.000000\n",
       "1     Afghanistan  2001             NaN            0.004723\n",
       "2     Afghanistan  2002     1280.463171            0.004561\n",
       "3     Afghanistan  2003     1292.333437            0.087891\n",
       "4     Afghanistan  2004     1260.060581            0.105809\n",
       "...           ...   ...             ...                 ...\n",
       "9107     Zimbabwe  2018     2399.621551           25.000000\n",
       "9108     Zimbabwe  2019     2203.396810           26.588300\n",
       "9109     Zimbabwe  2020     1990.319419           29.298600\n",
       "9110     Zimbabwe  2021     2115.144555           32.461600\n",
       "9111     Zimbabwe  2022     2143.237574           32.561500\n",
       "\n",
       "[9112 rows x 4 columns]"
      ]
     },
     "execution_count": 61,
     "metadata": {},
     "output_type": "execute_result"
    }
   ],
   "source": [
    "gdp_and_internet_use = pd.merge(gdp_df, internet_df,\n",
    "                              on = ['Country', 'Year'],\n",
    "                               how = 'outer')\n",
    "                               \n",
    "gdp_and_internet_use"
   ]
  },
  {
   "cell_type": "markdown",
   "id": "eaa97a12-996f-4f19-b12e-6555e3c29689",
   "metadata": {},
   "source": [
    "21. Find the three countries with the highest internet users percentage in 2014. Use a seaborn FacetGrid (https://seaborn.pydata.org/generated/seaborn.FacetGrid.html) to compare how the GDP per capita has changed over time for these three countries. What do you notice?"
   ]
  },
  {
   "cell_type": "code",
   "execution_count": 63,
   "id": "169ed7ed-bcc6-4f15-b126-c90322066137",
   "metadata": {},
   "outputs": [
    {
     "data": {
      "text/html": [
       "<div>\n",
       "<style scoped>\n",
       "    .dataframe tbody tr th:only-of-type {\n",
       "        vertical-align: middle;\n",
       "    }\n",
       "\n",
       "    .dataframe tbody tr th {\n",
       "        vertical-align: top;\n",
       "    }\n",
       "\n",
       "    .dataframe thead th {\n",
       "        text-align: right;\n",
       "    }\n",
       "</style>\n",
       "<table border=\"1\" class=\"dataframe\">\n",
       "  <thead>\n",
       "    <tr style=\"text-align: right;\">\n",
       "      <th></th>\n",
       "      <th>Country</th>\n",
       "      <th>Year</th>\n",
       "      <th>GDP_Per_Capita</th>\n",
       "      <th>Internet_Users_Pct</th>\n",
       "    </tr>\n",
       "  </thead>\n",
       "  <tbody>\n",
       "    <tr>\n",
       "      <th>3820</th>\n",
       "      <td>Iceland</td>\n",
       "      <td>2014</td>\n",
       "      <td>50450.741612</td>\n",
       "      <td>98.1580</td>\n",
       "    </tr>\n",
       "    <tr>\n",
       "      <th>2780</th>\n",
       "      <td>Falkland (Malvinas) Islands</td>\n",
       "      <td>2014</td>\n",
       "      <td>NaN</td>\n",
       "      <td>97.6000</td>\n",
       "    </tr>\n",
       "    <tr>\n",
       "      <th>794</th>\n",
       "      <td>Bermuda</td>\n",
       "      <td>2014</td>\n",
       "      <td>77361.104881</td>\n",
       "      <td>96.8000</td>\n",
       "    </tr>\n",
       "    <tr>\n",
       "      <th>6243</th>\n",
       "      <td>Norway</td>\n",
       "      <td>2014</td>\n",
       "      <td>62838.515727</td>\n",
       "      <td>96.3005</td>\n",
       "    </tr>\n",
       "    <tr>\n",
       "      <th>2100</th>\n",
       "      <td>Denmark</td>\n",
       "      <td>2014</td>\n",
       "      <td>52048.335493</td>\n",
       "      <td>95.9935</td>\n",
       "    </tr>\n",
       "    <tr>\n",
       "      <th>...</th>\n",
       "      <td>...</td>\n",
       "      <td>...</td>\n",
       "      <td>...</td>\n",
       "      <td>...</td>\n",
       "    </tr>\n",
       "    <tr>\n",
       "      <th>8450</th>\n",
       "      <td>Turks and Caicos Islands</td>\n",
       "      <td>2014</td>\n",
       "      <td>24661.145053</td>\n",
       "      <td>NaN</td>\n",
       "    </tr>\n",
       "    <tr>\n",
       "      <th>8516</th>\n",
       "      <td>TÃ¼rkiye</td>\n",
       "      <td>2014</td>\n",
       "      <td>24600.518215</td>\n",
       "      <td>NaN</td>\n",
       "    </tr>\n",
       "    <tr>\n",
       "      <th>8746</th>\n",
       "      <td>Upper middle income</td>\n",
       "      <td>2014</td>\n",
       "      <td>14063.487284</td>\n",
       "      <td>NaN</td>\n",
       "    </tr>\n",
       "    <tr>\n",
       "      <th>8978</th>\n",
       "      <td>West Bank and Gaza</td>\n",
       "      <td>2014</td>\n",
       "      <td>5967.073437</td>\n",
       "      <td>NaN</td>\n",
       "    </tr>\n",
       "    <tr>\n",
       "      <th>9011</th>\n",
       "      <td>World</td>\n",
       "      <td>2014</td>\n",
       "      <td>15120.730322</td>\n",
       "      <td>NaN</td>\n",
       "    </tr>\n",
       "  </tbody>\n",
       "</table>\n",
       "<p>284 rows × 4 columns</p>\n",
       "</div>"
      ],
      "text/plain": [
       "                          Country  Year  GDP_Per_Capita  Internet_Users_Pct\n",
       "3820                      Iceland  2014    50450.741612             98.1580\n",
       "2780  Falkland (Malvinas) Islands  2014             NaN             97.6000\n",
       "794                       Bermuda  2014    77361.104881             96.8000\n",
       "6243                       Norway  2014    62838.515727             96.3005\n",
       "2100                      Denmark  2014    52048.335493             95.9935\n",
       "...                           ...   ...             ...                 ...\n",
       "8450     Turks and Caicos Islands  2014    24661.145053                 NaN\n",
       "8516                     TÃ¼rkiye  2014    24600.518215                 NaN\n",
       "8746          Upper middle income  2014    14063.487284                 NaN\n",
       "8978           West Bank and Gaza  2014     5967.073437                 NaN\n",
       "9011                        World  2014    15120.730322                 NaN\n",
       "\n",
       "[284 rows x 4 columns]"
      ]
     },
     "execution_count": 63,
     "metadata": {},
     "output_type": "execute_result"
    }
   ],
   "source": [
    "highest_2014 = gdp_and_internet_use[gdp_and_internet_use['Year']==2014]\n",
    "highest_2014.sort_values('Internet_Users_Pct', ascending = False)"
   ]
  },
  {
   "cell_type": "code",
   "execution_count": 64,
   "id": "1d443b5f-bbcc-456a-a4a5-29516356c258",
   "metadata": {},
   "outputs": [
    {
     "data": {
      "text/html": [
       "<div>\n",
       "<style scoped>\n",
       "    .dataframe tbody tr th:only-of-type {\n",
       "        vertical-align: middle;\n",
       "    }\n",
       "\n",
       "    .dataframe tbody tr th {\n",
       "        vertical-align: top;\n",
       "    }\n",
       "\n",
       "    .dataframe thead th {\n",
       "        text-align: right;\n",
       "    }\n",
       "</style>\n",
       "<table border=\"1\" class=\"dataframe\">\n",
       "  <thead>\n",
       "    <tr style=\"text-align: right;\">\n",
       "      <th></th>\n",
       "      <th>Country</th>\n",
       "      <th>Year</th>\n",
       "      <th>GDP_Per_Capita</th>\n",
       "      <th>Internet_Users_Pct</th>\n",
       "    </tr>\n",
       "  </thead>\n",
       "  <tbody>\n",
       "    <tr>\n",
       "      <th>770</th>\n",
       "      <td>Bermuda</td>\n",
       "      <td>1990</td>\n",
       "      <td>65961.406278</td>\n",
       "      <td>0.0000</td>\n",
       "    </tr>\n",
       "    <tr>\n",
       "      <th>771</th>\n",
       "      <td>Bermuda</td>\n",
       "      <td>1991</td>\n",
       "      <td>63958.896254</td>\n",
       "      <td>NaN</td>\n",
       "    </tr>\n",
       "    <tr>\n",
       "      <th>772</th>\n",
       "      <td>Bermuda</td>\n",
       "      <td>1992</td>\n",
       "      <td>64385.407410</td>\n",
       "      <td>NaN</td>\n",
       "    </tr>\n",
       "    <tr>\n",
       "      <th>773</th>\n",
       "      <td>Bermuda</td>\n",
       "      <td>1993</td>\n",
       "      <td>65967.850014</td>\n",
       "      <td>NaN</td>\n",
       "    </tr>\n",
       "    <tr>\n",
       "      <th>774</th>\n",
       "      <td>Bermuda</td>\n",
       "      <td>1994</td>\n",
       "      <td>65904.720421</td>\n",
       "      <td>NaN</td>\n",
       "    </tr>\n",
       "    <tr>\n",
       "      <th>...</th>\n",
       "      <td>...</td>\n",
       "      <td>...</td>\n",
       "      <td>...</td>\n",
       "      <td>...</td>\n",
       "    </tr>\n",
       "    <tr>\n",
       "      <th>6247</th>\n",
       "      <td>Norway</td>\n",
       "      <td>2018</td>\n",
       "      <td>64696.490887</td>\n",
       "      <td>96.4917</td>\n",
       "    </tr>\n",
       "    <tr>\n",
       "      <th>6248</th>\n",
       "      <td>Norway</td>\n",
       "      <td>2019</td>\n",
       "      <td>64983.354208</td>\n",
       "      <td>98.0000</td>\n",
       "    </tr>\n",
       "    <tr>\n",
       "      <th>6249</th>\n",
       "      <td>Norway</td>\n",
       "      <td>2020</td>\n",
       "      <td>63776.160965</td>\n",
       "      <td>94.6076</td>\n",
       "    </tr>\n",
       "    <tr>\n",
       "      <th>6250</th>\n",
       "      <td>Norway</td>\n",
       "      <td>2021</td>\n",
       "      <td>65909.003030</td>\n",
       "      <td>99.0000</td>\n",
       "    </tr>\n",
       "    <tr>\n",
       "      <th>6251</th>\n",
       "      <td>Norway</td>\n",
       "      <td>2022</td>\n",
       "      <td>67462.376446</td>\n",
       "      <td>99.0000</td>\n",
       "    </tr>\n",
       "  </tbody>\n",
       "</table>\n",
       "<p>99 rows × 4 columns</p>\n",
       "</div>"
      ],
      "text/plain": [
       "      Country  Year  GDP_Per_Capita  Internet_Users_Pct\n",
       "770   Bermuda  1990    65961.406278              0.0000\n",
       "771   Bermuda  1991    63958.896254                 NaN\n",
       "772   Bermuda  1992    64385.407410                 NaN\n",
       "773   Bermuda  1993    65967.850014                 NaN\n",
       "774   Bermuda  1994    65904.720421                 NaN\n",
       "...       ...   ...             ...                 ...\n",
       "6247   Norway  2018    64696.490887             96.4917\n",
       "6248   Norway  2019    64983.354208             98.0000\n",
       "6249   Norway  2020    63776.160965             94.6076\n",
       "6250   Norway  2021    65909.003030             99.0000\n",
       "6251   Norway  2022    67462.376446             99.0000\n",
       "\n",
       "[99 rows x 4 columns]"
      ]
     },
     "execution_count": 64,
     "metadata": {},
     "output_type": "execute_result"
    }
   ],
   "source": [
    "#three_countries = gdp_and_internet_use[gdp_and_internet_use['Country'].isin(['Iceland','Falkland (Malvinas) Islands','Norway'])]\n",
    "#three_countries\n",
    "\n",
    "#The Falkland (Malvinas) Islands don't have any GDP_Per_Capita data, so I'm going to take the next country on the list\n",
    "\n",
    "three_countries = gdp_and_internet_use[gdp_and_internet_use['Country'].isin(['Iceland','Bermuda','Norway'])]\n",
    "three_countries"
   ]
  },
  {
   "cell_type": "code",
   "execution_count": 65,
   "id": "ac4a1cc4-b4c6-4639-95f3-6f3026cf5972",
   "metadata": {
    "scrolled": true
   },
   "outputs": [
    {
     "data": {
      "text/plain": [
       "<seaborn.axisgrid.FacetGrid at 0x13dac9430>"
      ]
     },
     "execution_count": 65,
     "metadata": {},
     "output_type": "execute_result"
    },
    {
     "data": {
      "image/png": "[encoded data removed]",
      "text/plain": [
       "<Figure size 900x300 with 3 Axes>"
      ]
     },
     "metadata": {},
     "output_type": "display_data"
    }
   ],
   "source": [
    "#FacetGrid\n",
    "g = sns.FacetGrid(three_countries, col=\"Country\", margin_titles=True)\n",
    "g.map_dataframe(sns.scatterplot, x=\"Year\", y=\"GDP_Per_Capita\", color='sandybrown')\n",
    "g.refline(y=three_countries[\"GDP_Per_Capita\"].median())"
   ]
  },
  {
   "cell_type": "code",
   "execution_count": 66,
   "id": "83901e0f-6e76-46e5-9a71-ba8b23f0ca03",
   "metadata": {},
   "outputs": [
    {
     "data": {
      "image/png": "[encoded data removed]",
      "text/plain": [
       "<Figure size 800x600 with 1 Axes>"
      ]
     },
     "metadata": {},
     "output_type": "display_data"
    }
   ],
   "source": [
    "#Lineplot\n",
    "plt.figure(figsize=(8, 6)) # Width and Height of the chart\n",
    "sns.lineplot(x='Year',\n",
    "             y='GDP_Per_Capita',\n",
    "             hue='Country', # Create 2 line plots according to labels in 'z'\n",
    "             data=three_countries,\n",
    "             marker='o', # Style used to mark the join between 2 points\n",
    "             palette={'Norway':'lightcoral',\n",
    "                      'Bermuda':'darkseagreen',\n",
    "                      'Iceland':'goldenrod'\n",
    "                      }, # Colors of the lines\n",
    "            )\n",
    "plt.xlabel('Year') # x-axis name\n",
    "plt.ylabel('GDP Per Capita') # y-axis name\n",
    "plt.title('Top Internet Users GDP Overtime') # Add a title\n",
    "plt.show() # Display the graph"
   ]
  },
  {
   "cell_type": "markdown",
   "id": "695d2947-2535-499d-bf36-e4278bff3f4c",
   "metadata": {},
   "source": [
    "22. Subset `gdp_and_internet_use` to just the year 2014. Save this as a new dataframe named `gdp_and_internet_use_2014`."
   ]
  },
  {
   "cell_type": "code",
   "execution_count": 68,
   "id": "6ff94a7c-6e39-4deb-b9eb-2c226e5d32f0",
   "metadata": {},
   "outputs": [
    {
     "data": {
      "text/html": [
       "<div>\n",
       "<style scoped>\n",
       "    .dataframe tbody tr th:only-of-type {\n",
       "        vertical-align: middle;\n",
       "    }\n",
       "\n",
       "    .dataframe tbody tr th {\n",
       "        vertical-align: top;\n",
       "    }\n",
       "\n",
       "    .dataframe thead th {\n",
       "        text-align: right;\n",
       "    }\n",
       "</style>\n",
       "<table border=\"1\" class=\"dataframe\">\n",
       "  <thead>\n",
       "    <tr style=\"text-align: right;\">\n",
       "      <th></th>\n",
       "      <th>Country</th>\n",
       "      <th>Year</th>\n",
       "      <th>GDP_Per_Capita</th>\n",
       "      <th>Internet_Users_Pct</th>\n",
       "    </tr>\n",
       "  </thead>\n",
       "  <tbody>\n",
       "    <tr>\n",
       "      <th>14</th>\n",
       "      <td>Afghanistan</td>\n",
       "      <td>2014</td>\n",
       "      <td>2144.449634</td>\n",
       "      <td>7.0000</td>\n",
       "    </tr>\n",
       "    <tr>\n",
       "      <th>46</th>\n",
       "      <td>Africa Eastern and Southern</td>\n",
       "      <td>2014</td>\n",
       "      <td>3642.875373</td>\n",
       "      <td>NaN</td>\n",
       "    </tr>\n",
       "    <tr>\n",
       "      <th>79</th>\n",
       "      <td>Africa Western and Central</td>\n",
       "      <td>2014</td>\n",
       "      <td>4146.994622</td>\n",
       "      <td>NaN</td>\n",
       "    </tr>\n",
       "    <tr>\n",
       "      <th>112</th>\n",
       "      <td>Albania</td>\n",
       "      <td>2014</td>\n",
       "      <td>11586.817446</td>\n",
       "      <td>54.3000</td>\n",
       "    </tr>\n",
       "    <tr>\n",
       "      <th>145</th>\n",
       "      <td>Algeria</td>\n",
       "      <td>2014</td>\n",
       "      <td>11561.259795</td>\n",
       "      <td>29.5000</td>\n",
       "    </tr>\n",
       "    <tr>\n",
       "      <th>...</th>\n",
       "      <td>...</td>\n",
       "      <td>...</td>\n",
       "      <td>...</td>\n",
       "      <td>...</td>\n",
       "    </tr>\n",
       "    <tr>\n",
       "      <th>8978</th>\n",
       "      <td>West Bank and Gaza</td>\n",
       "      <td>2014</td>\n",
       "      <td>5967.073437</td>\n",
       "      <td>NaN</td>\n",
       "    </tr>\n",
       "    <tr>\n",
       "      <th>9011</th>\n",
       "      <td>World</td>\n",
       "      <td>2014</td>\n",
       "      <td>15120.730322</td>\n",
       "      <td>NaN</td>\n",
       "    </tr>\n",
       "    <tr>\n",
       "      <th>9039</th>\n",
       "      <td>Yemen</td>\n",
       "      <td>2014</td>\n",
       "      <td>NaN</td>\n",
       "      <td>22.5500</td>\n",
       "    </tr>\n",
       "    <tr>\n",
       "      <th>9070</th>\n",
       "      <td>Zambia</td>\n",
       "      <td>2014</td>\n",
       "      <td>3375.941270</td>\n",
       "      <td>6.5000</td>\n",
       "    </tr>\n",
       "    <tr>\n",
       "      <th>9103</th>\n",
       "      <td>Zimbabwe</td>\n",
       "      <td>2014</td>\n",
       "      <td>2316.954536</td>\n",
       "      <td>16.3647</td>\n",
       "    </tr>\n",
       "  </tbody>\n",
       "</table>\n",
       "<p>284 rows × 4 columns</p>\n",
       "</div>"
      ],
      "text/plain": [
       "                          Country  Year  GDP_Per_Capita  Internet_Users_Pct\n",
       "14                    Afghanistan  2014     2144.449634              7.0000\n",
       "46    Africa Eastern and Southern  2014     3642.875373                 NaN\n",
       "79     Africa Western and Central  2014     4146.994622                 NaN\n",
       "112                       Albania  2014    11586.817446             54.3000\n",
       "145                       Algeria  2014    11561.259795             29.5000\n",
       "...                           ...   ...             ...                 ...\n",
       "8978           West Bank and Gaza  2014     5967.073437                 NaN\n",
       "9011                        World  2014    15120.730322                 NaN\n",
       "9039                        Yemen  2014             NaN             22.5500\n",
       "9070                       Zambia  2014     3375.941270              6.5000\n",
       "9103                     Zimbabwe  2014     2316.954536             16.3647\n",
       "\n",
       "[284 rows x 4 columns]"
      ]
     },
     "execution_count": 68,
     "metadata": {},
     "output_type": "execute_result"
    }
   ],
   "source": [
    "#Just grab the year 2014\n",
    "gdp_and_internet_use_2014 = gdp_and_internet_use[gdp_and_internet_use['Year']==2014]\n",
    "gdp_and_internet_use_2014"
   ]
  },
  {
   "cell_type": "markdown",
   "id": "e763a067-aee8-4c74-a7f4-36f561b85a14",
   "metadata": {},
   "source": [
    "23. Create a plot which compares Internet Users Percentage and GDP per Capita for the year 2014. What do you notice from this plot? If you see any unusual points, investigate them."
   ]
  },
  {
   "cell_type": "code",
   "execution_count": 70,
   "id": "34d190fe-ef0d-4f10-bc8b-75006512cef3",
   "metadata": {},
   "outputs": [
    {
     "data": {
      "image/png": "[encoded data removed]",
      "text/plain": [
       "<Figure size 640x480 with 1 Axes>"
      ]
     },
     "metadata": {},
     "output_type": "display_data"
    }
   ],
   "source": [
    "# draw regplot\n",
    "sns.regplot(x = \"GDP_Per_Capita\",\n",
    "            y = \"Internet_Users_Pct\",\n",
    "            data = gdp_and_internet_use_2014, color = 'sandybrown',\n",
    "            dropna = True)\n",
    "plt.xlabel('GDP Per Capita') # x-axis name\n",
    "plt.ylabel('Percent of Internet Users') # y-axis name\n",
    "plt.title('Internet Use vs GDP Per Capita') # Add a title\n",
    "plt.show() # Display the graph"
   ]
  },
  {
   "cell_type": "markdown",
   "id": "5bb18dd4-4ee0-4acf-8110-df9de3b9d1d1",
   "metadata": {},
   "source": [
    "24. **Stretch Question:** Use the `qcut` function from pandas (https://pandas.pydata.org/docs/reference/api/pandas.qcut.html) to divide countries in `gdp_per_capita_2014` into three groups based on their GDP per capita values. Label these groups as \"Low\", \"Medium\", and \"High\". Put these labels in a new column, named \"GDP_group\"."
   ]
  },
  {
   "cell_type": "code",
   "execution_count": 72,
   "id": "54eb1deb-5bb4-46bc-b9ac-51b68babdebe",
   "metadata": {
    "scrolled": true
   },
   "outputs": [
    {
     "name": "stderr",
     "output_type": "stream",
     "text": [
      "/var/folders/pp/vy1cm1td64l94kkzc518f7jh0000gq/T/ipykernel_29670/759852984.py:2: SettingWithCopyWarning: \n",
      "A value is trying to be set on a copy of a slice from a DataFrame.\n",
      "Try using .loc[row_indexer,col_indexer] = value instead\n",
      "\n",
      "See the caveats in the documentation: https://pandas.pydata.org/pandas-docs/stable/user_guide/indexing.html#returning-a-view-versus-a-copy\n",
      "  gdp_per_capita_2014['GDP_group'] = pd.qcut(gdp_per_capita_2014['GDP_Per_Capita'], q=3, labels=[\"Low\", \"Medium\", \"High\"])\n"
     ]
    },
    {
     "data": {
      "text/html": [
       "<div>\n",
       "<style scoped>\n",
       "    .dataframe tbody tr th:only-of-type {\n",
       "        vertical-align: middle;\n",
       "    }\n",
       "\n",
       "    .dataframe tbody tr th {\n",
       "        vertical-align: top;\n",
       "    }\n",
       "\n",
       "    .dataframe thead th {\n",
       "        text-align: right;\n",
       "    }\n",
       "</style>\n",
       "<table border=\"1\" class=\"dataframe\">\n",
       "  <thead>\n",
       "    <tr style=\"text-align: right;\">\n",
       "      <th></th>\n",
       "      <th>Country</th>\n",
       "      <th>Year</th>\n",
       "      <th>GDP_Per_Capita</th>\n",
       "      <th>GDP_group</th>\n",
       "    </tr>\n",
       "  </thead>\n",
       "  <tbody>\n",
       "    <tr>\n",
       "      <th>7</th>\n",
       "      <td>Afghanistan</td>\n",
       "      <td>2014</td>\n",
       "      <td>2144.449634</td>\n",
       "      <td>Low</td>\n",
       "    </tr>\n",
       "    <tr>\n",
       "      <th>28</th>\n",
       "      <td>Africa Eastern and Southern</td>\n",
       "      <td>2014</td>\n",
       "      <td>3642.875373</td>\n",
       "      <td>Low</td>\n",
       "    </tr>\n",
       "    <tr>\n",
       "      <th>61</th>\n",
       "      <td>Africa Western and Central</td>\n",
       "      <td>2014</td>\n",
       "      <td>4146.994622</td>\n",
       "      <td>Low</td>\n",
       "    </tr>\n",
       "    <tr>\n",
       "      <th>94</th>\n",
       "      <td>Albania</td>\n",
       "      <td>2014</td>\n",
       "      <td>11586.817446</td>\n",
       "      <td>Medium</td>\n",
       "    </tr>\n",
       "    <tr>\n",
       "      <th>127</th>\n",
       "      <td>Algeria</td>\n",
       "      <td>2014</td>\n",
       "      <td>11561.259795</td>\n",
       "      <td>Medium</td>\n",
       "    </tr>\n",
       "  </tbody>\n",
       "</table>\n",
       "</div>"
      ],
      "text/plain": [
       "                         Country  Year  GDP_Per_Capita GDP_group\n",
       "7                    Afghanistan  2014     2144.449634       Low\n",
       "28   Africa Eastern and Southern  2014     3642.875373       Low\n",
       "61    Africa Western and Central  2014     4146.994622       Low\n",
       "94                       Albania  2014    11586.817446    Medium\n",
       "127                      Algeria  2014    11561.259795    Medium"
      ]
     },
     "execution_count": 72,
     "metadata": {},
     "output_type": "execute_result"
    }
   ],
   "source": [
    "gdp_per_capita_2014 = gdp_df[gdp_df['Year'] == 2014]\n",
    "gdp_per_capita_2014['GDP_group'] = pd.qcut(gdp_per_capita_2014['GDP_Per_Capita'], q=3, labels=[\"Low\", \"Medium\", \"High\"])\n",
    "gdp_per_capita_2014.head()"
   ]
  },
  {
   "cell_type": "markdown",
   "id": "ed916131-12be-40e2-9830-5d2b43515ab3",
   "metadata": {},
   "source": [
    "25. **Stretch Question: How does the median internet users percentage compare for the three gdp groups?"
   ]
  },
  {
   "cell_type": "code",
   "execution_count": 74,
   "id": "0f29e880-b3be-4cc2-9dbf-0178406b9be0",
   "metadata": {},
   "outputs": [
    {
     "name": "stderr",
     "output_type": "stream",
     "text": [
      "/var/folders/pp/vy1cm1td64l94kkzc518f7jh0000gq/T/ipykernel_29670/1876882929.py:1: FutureWarning: The default of observed=False is deprecated and will be changed to True in a future version of pandas. Pass observed=False to retain current behavior or observed=True to adopt the future default and silence this warning.\n",
      "  gdp_per_capita_2014.groupby(by='GDP_group', dropna=False).median('GDP_Per_Capita')\n"
     ]
    },
    {
     "data": {
      "text/html": [
       "<div>\n",
       "<style scoped>\n",
       "    .dataframe tbody tr th:only-of-type {\n",
       "        vertical-align: middle;\n",
       "    }\n",
       "\n",
       "    .dataframe tbody tr th {\n",
       "        vertical-align: top;\n",
       "    }\n",
       "\n",
       "    .dataframe thead th {\n",
       "        text-align: right;\n",
       "    }\n",
       "</style>\n",
       "<table border=\"1\" class=\"dataframe\">\n",
       "  <thead>\n",
       "    <tr style=\"text-align: right;\">\n",
       "      <th></th>\n",
       "      <th>Year</th>\n",
       "      <th>GDP_Per_Capita</th>\n",
       "    </tr>\n",
       "    <tr>\n",
       "      <th>GDP_group</th>\n",
       "      <th></th>\n",
       "      <th></th>\n",
       "    </tr>\n",
       "  </thead>\n",
       "  <tbody>\n",
       "    <tr>\n",
       "      <th>Low</th>\n",
       "      <td>2014.0</td>\n",
       "      <td>3378.364591</td>\n",
       "    </tr>\n",
       "    <tr>\n",
       "      <th>Medium</th>\n",
       "      <td>2014.0</td>\n",
       "      <td>12164.228037</td>\n",
       "    </tr>\n",
       "    <tr>\n",
       "      <th>High</th>\n",
       "      <td>2014.0</td>\n",
       "      <td>37454.808489</td>\n",
       "    </tr>\n",
       "  </tbody>\n",
       "</table>\n",
       "</div>"
      ],
      "text/plain": [
       "             Year  GDP_Per_Capita\n",
       "GDP_group                        \n",
       "Low        2014.0     3378.364591\n",
       "Medium     2014.0    12164.228037\n",
       "High       2014.0    37454.808489"
      ]
     },
     "execution_count": 74,
     "metadata": {},
     "output_type": "execute_result"
    }
   ],
   "source": [
    "gdp_per_capita_2014.groupby(by='GDP_group', dropna=False).median('GDP_Per_Capita')"
   ]
  },
  {
   "cell_type": "code",
   "execution_count": null,
   "id": "d0054490-be94-44d0-9122-b3ec7e235a68",
   "metadata": {},
   "outputs": [],
   "source": []
  }
 ],
 "metadata": {
  "kernelspec": {
   "display_name": "Python 3 (ipykernel)",
   "language": "python",
   "name": "python3"
  },
  "language_info": {
   "codemirror_mode": {
    "name": "ipython",
    "version": 3
   },
   "file_extension": ".py",
   "mimetype": "text/x-python",
   "name": "python",
   "nbconvert_exporter": "python",
   "pygments_lexer": "ipython3",
   "version": "3.12.4"
  }
 },
 "nbformat": 4,
 "nbformat_minor": 5
}
